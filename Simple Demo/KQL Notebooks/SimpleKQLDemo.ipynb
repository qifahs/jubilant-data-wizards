{
    "cells": [
        {
            "cell_type": "code",
            "execution_count": 1,
            "metadata": {
                "dotnet_interactive": {
                    "language": "csharp"
                }
            },
            "outputs": [
                {
                    "name": "stdout",
                    "output_type": "stream",
                    "text": [
                        "Defaulting to user installation because normal site-packages is not writeable\n",
                        "Collecting kqlmagic\n",
                        "  Downloading Kqlmagic-0.1.114.post12-py3-none-any.whl (233 kB)\n",
                        "     |████████████████████████████████| 233 kB 12.3 MB/s            \n",
                        "\u001b[?25hRequirement already satisfied: setuptools>=41.0.1 in /usr/lib/python3/dist-packages (from kqlmagic) (45.2.0)\n",
                        "Collecting prettytable>=0.7.2\n",
                        "  Downloading prettytable-3.0.0-py3-none-any.whl (24 kB)\n",
                        "Collecting lxml>=4.2.5\n",
                        "  Downloading lxml-4.7.1-cp38-cp38-manylinux_2_17_x86_64.manylinux2014_x86_64.manylinux_2_24_x86_64.whl (6.9 MB)\n",
                        "     |████████████████████████████████| 6.9 MB 80.9 MB/s            \n",
                        "\u001b[?25hCollecting matplotlib>=3.0.0\n",
                        "  Downloading matplotlib-3.5.1-cp38-cp38-manylinux_2_5_x86_64.manylinux1_x86_64.whl (11.3 MB)\n",
                        "     |████████████████████████████████| 11.3 MB 56.6 MB/s            \n",
                        "\u001b[?25hCollecting Markdown>=3.0.1\n",
                        "  Downloading Markdown-3.3.6-py3-none-any.whl (97 kB)\n",
                        "     |████████████████████████████████| 97 kB 3.8 MB/s              \n",
                        "\u001b[?25hCollecting azure-common>=1.1.25\n",
                        "  Downloading azure_common-1.1.27-py2.py3-none-any.whl (12 kB)\n",
                        "Requirement already satisfied: ipykernel>=5.1.1 in /home/codespace/.local/lib/python3.8/site-packages (from kqlmagic) (6.7.0)\n",
                        "Collecting psutil>=5.4.7\n",
                        "  Downloading psutil-5.9.0-cp38-cp38-manylinux_2_12_x86_64.manylinux2010_x86_64.manylinux_2_17_x86_64.manylinux2014_x86_64.whl (283 kB)\n",
                        "     |████████████████████████████████| 283 kB 111.2 MB/s            \n",
                        "\u001b[?25hCollecting isodate>=0.6.0\n",
                        "  Downloading isodate-0.6.1-py2.py3-none-any.whl (41 kB)\n",
                        "     |████████████████████████████████| 41 kB 257 kB/s             \n",
                        "\u001b[?25hCollecting msal>=1.11.0\n",
                        "  Downloading msal-1.16.0-py2.py3-none-any.whl (78 kB)\n",
                        "     |████████████████████████████████| 78 kB 3.6 MB/s              \n",
                        "\u001b[?25hCollecting beautifulsoup4>=4.6.3\n",
                        "  Downloading beautifulsoup4-4.10.0-py3-none-any.whl (97 kB)\n",
                        "     |████████████████████████████████| 97 kB 3.5 MB/s             \n",
                        "\u001b[?25hRequirement already satisfied: ipython>=7.1.1 in /home/codespace/.local/lib/python3.8/site-packages (from kqlmagic) (8.0.1)\n",
                        "Requirement already satisfied: requests>=2.21.0 in /usr/lib/python3/dist-packages (from kqlmagic) (2.22.0)\n",
                        "Collecting ipywidgets\n",
                        "  Downloading ipywidgets-7.6.5-py2.py3-none-any.whl (121 kB)\n",
                        "     |████████████████████████████████| 121 kB 83.8 MB/s            \n",
                        "\u001b[?25hRequirement already satisfied: python-dateutil>=2.7.5 in /home/codespace/.local/lib/python3.8/site-packages (from kqlmagic) (2.8.2)\n",
                        "Collecting azure-identity>=1.5.0\n",
                        "  Downloading azure_identity-1.7.1-py2.py3-none-any.whl (129 kB)\n",
                        "     |████████████████████████████████| 129 kB 107.3 MB/s            \n",
                        "\u001b[?25hCollecting msal-extensions>=0.3.0\n",
                        "  Downloading msal_extensions-0.3.1-py2.py3-none-any.whl (18 kB)\n",
                        "Collecting msrestazure>=0.6.3\n",
                        "  Downloading msrestazure-0.6.4-py2.py3-none-any.whl (40 kB)\n",
                        "     |████████████████████████████████| 40 kB 2.9 MB/s             \n",
                        "\u001b[?25hCollecting cryptography>=2.7\n",
                        "  Downloading cryptography-36.0.1-cp36-abi3-manylinux_2_24_x86_64.whl (3.6 MB)\n",
                        "     |████████████████████████████████| 3.6 MB 103.4 MB/s            \n",
                        "\u001b[?25hCollecting plotly>=3.10.0\n",
                        "  Downloading plotly-5.5.0-py2.py3-none-any.whl (26.5 MB)\n",
                        "     |████████████████████████████████| 26.5 MB 113.6 MB/s            \n",
                        "\u001b[?25hCollecting pandas>=0.23.4\n",
                        "  Downloading pandas-1.4.0-cp38-cp38-manylinux_2_17_x86_64.manylinux2014_x86_64.whl (11.7 MB)\n",
                        "     |████████████████████████████████| 11.7 MB 76.7 MB/s            \n",
                        "\u001b[?25hRequirement already satisfied: Pygments>=2.2.0 in /usr/lib/python3/dist-packages (from kqlmagic) (2.3.1)\n",
                        "Requirement already satisfied: traitlets>=4.3.2 in /home/codespace/.local/lib/python3.8/site-packages (from kqlmagic) (5.1.1)\n",
                        "Collecting password-strength>=0.0.3\n",
                        "  Downloading password_strength-0.0.3.post2-py2.py3-none-any.whl (12 kB)\n",
                        "Collecting flask>=1.0.3\n",
                        "  Downloading Flask-2.0.2-py3-none-any.whl (95 kB)\n",
                        "     |████████████████████████████████| 95 kB 1.7 MB/s             \n",
                        "\u001b[?25hCollecting pyperclip>=1.7.0\n",
                        "  Downloading pyperclip-1.8.2.tar.gz (20 kB)\n",
                        "  Preparing metadata (setup.py) ... \u001b[?25ldone\n",
                        "\u001b[?25hRequirement already satisfied: six>=1.12.0 in /usr/lib/python3/dist-packages (from azure-identity>=1.5.0->kqlmagic) (1.14.0)\n",
                        "Collecting azure-core<2.0.0,>=1.11.0\n",
                        "  Downloading azure_core-1.21.1-py2.py3-none-any.whl (178 kB)\n",
                        "     |████████████████████████████████| 178 kB 39.9 MB/s            \n",
                        "\u001b[?25hCollecting soupsieve>1.2\n",
                        "  Downloading soupsieve-2.3.1-py3-none-any.whl (37 kB)\n",
                        "Collecting cffi>=1.12\n",
                        "  Downloading cffi-1.15.0-cp38-cp38-manylinux_2_12_x86_64.manylinux2010_x86_64.whl (446 kB)\n",
                        "     |████████████████████████████████| 446 kB 87.0 MB/s            \n",
                        "\u001b[?25hCollecting Jinja2>=3.0\n",
                        "  Downloading Jinja2-3.0.3-py3-none-any.whl (133 kB)\n",
                        "     |████████████████████████████████| 133 kB 114.6 MB/s            \n",
                        "\u001b[?25hCollecting itsdangerous>=2.0\n",
                        "  Downloading itsdangerous-2.0.1-py3-none-any.whl (18 kB)\n",
                        "Collecting Werkzeug>=2.0\n",
                        "  Downloading Werkzeug-2.0.2-py3-none-any.whl (288 kB)\n",
                        "     |████████████████████████████████| 288 kB 77.7 MB/s            \n",
                        "\u001b[?25hRequirement already satisfied: click>=7.1.2 in /home/codespace/.local/lib/python3.8/site-packages (from flask>=1.0.3->kqlmagic) (8.0.3)\n",
                        "Requirement already satisfied: tornado<7.0,>=4.2 in /home/codespace/.local/lib/python3.8/site-packages (from ipykernel>=5.1.1->kqlmagic) (6.1)\n",
                        "Requirement already satisfied: matplotlib-inline<0.2.0,>=0.1.0 in /home/codespace/.local/lib/python3.8/site-packages (from ipykernel>=5.1.1->kqlmagic) (0.1.3)\n",
                        "Requirement already satisfied: jupyter-client<8.0 in /home/codespace/.local/lib/python3.8/site-packages (from ipykernel>=5.1.1->kqlmagic) (7.1.2)\n",
                        "Requirement already satisfied: nest-asyncio in /home/codespace/.local/lib/python3.8/site-packages (from ipykernel>=5.1.1->kqlmagic) (1.5.4)\n",
                        "Requirement already satisfied: debugpy<2.0,>=1.0.0 in /home/codespace/.local/lib/python3.8/site-packages (from ipykernel>=5.1.1->kqlmagic) (1.5.1)\n",
                        "Requirement already satisfied: stack-data in /home/codespace/.local/lib/python3.8/site-packages (from ipython>=7.1.1->kqlmagic) (0.1.4)\n",
                        "Requirement already satisfied: black in /home/codespace/.local/lib/python3.8/site-packages (from ipython>=7.1.1->kqlmagic) (22.1.0)\n",
                        "Requirement already satisfied: pexpect>4.3 in /home/codespace/.local/lib/python3.8/site-packages (from ipython>=7.1.1->kqlmagic) (4.8.0)\n",
                        "Requirement already satisfied: prompt-toolkit!=3.0.0,!=3.0.1,<3.1.0,>=2.0.0 in /home/codespace/.local/lib/python3.8/site-packages (from ipython>=7.1.1->kqlmagic) (3.0.26)\n",
                        "Requirement already satisfied: jedi>=0.16 in /home/codespace/.local/lib/python3.8/site-packages (from ipython>=7.1.1->kqlmagic) (0.18.1)\n",
                        "Requirement already satisfied: backcall in /home/codespace/.local/lib/python3.8/site-packages (from ipython>=7.1.1->kqlmagic) (0.2.0)\n",
                        "Requirement already satisfied: decorator in /home/codespace/.local/lib/python3.8/site-packages (from ipython>=7.1.1->kqlmagic) (5.1.1)\n",
                        "Requirement already satisfied: pickleshare in /home/codespace/.local/lib/python3.8/site-packages (from ipython>=7.1.1->kqlmagic) (0.7.5)\n",
                        "Collecting importlib-metadata>=4.4\n",
                        "  Downloading importlib_metadata-4.10.1-py3-none-any.whl (17 kB)\n",
                        "Collecting packaging>=20.0\n",
                        "  Downloading packaging-21.3-py3-none-any.whl (40 kB)\n",
                        "     |████████████████████████████████| 40 kB 2.4 MB/s             \n",
                        "\u001b[?25hCollecting pillow>=6.2.0\n",
                        "  Downloading Pillow-9.0.0-cp38-cp38-manylinux_2_17_x86_64.manylinux2014_x86_64.whl (4.3 MB)\n",
                        "     |████████████████████████████████| 4.3 MB 84.0 MB/s            \n",
                        "\u001b[?25hCollecting pyparsing>=2.2.1\n",
                        "  Downloading pyparsing-3.0.7-py3-none-any.whl (98 kB)\n",
                        "     |████████████████████████████████| 98 kB 4.0 MB/s              \n",
                        "\u001b[?25hCollecting kiwisolver>=1.0.1\n",
                        "  Downloading kiwisolver-1.3.2-cp38-cp38-manylinux_2_5_x86_64.manylinux1_x86_64.whl (1.2 MB)\n",
                        "     |████████████████████████████████| 1.2 MB 90.4 MB/s            \n",
                        "\u001b[?25hCollecting fonttools>=4.22.0\n",
                        "  Downloading fonttools-4.29.1-py3-none-any.whl (895 kB)\n",
                        "     |████████████████████████████████| 895 kB 86.9 MB/s            \n",
                        "\u001b[?25hCollecting cycler>=0.10\n",
                        "  Downloading cycler-0.11.0-py3-none-any.whl (6.4 kB)\n",
                        "Collecting numpy>=1.17\n",
                        "  Downloading numpy-1.22.1-cp38-cp38-manylinux_2_17_x86_64.manylinux2014_x86_64.whl (16.8 MB)\n",
                        "     |████████████████████████████████| 16.8 MB 69.4 MB/s            ��███████████████            | 10.5 MB 69.4 MB/s eta 0:00:01\n",
                        "\u001b[?25hCollecting PyJWT[crypto]<3,>=1.0.0\n",
                        "  Downloading PyJWT-2.3.0-py3-none-any.whl (16 kB)\n",
                        "Collecting portalocker<3,>=1.0\n",
                        "  Downloading portalocker-2.3.2-py2.py3-none-any.whl (15 kB)\n",
                        "Collecting msrest<2.0.0,>=0.6.0\n",
                        "  Downloading msrest-0.6.21-py2.py3-none-any.whl (85 kB)\n",
                        "     |████████████████████████████████| 85 kB 1.9 MB/s             \n",
                        "\u001b[?25hCollecting adal<2.0.0,>=0.6.0\n",
                        "  Downloading adal-1.2.7-py2.py3-none-any.whl (55 kB)\n",
                        "     |████████████████████████████████| 55 kB 1.9 MB/s             \n",
                        "\u001b[?25hCollecting pytz>=2020.1\n",
                        "  Downloading pytz-2021.3-py2.py3-none-any.whl (503 kB)\n",
                        "     |████████████████████████████████| 503 kB 110.8 MB/s            \n",
                        "\u001b[?25hCollecting tenacity>=6.2.0\n",
                        "  Downloading tenacity-8.0.1-py3-none-any.whl (24 kB)\n",
                        "Requirement already satisfied: wcwidth in /home/codespace/.local/lib/python3.8/site-packages (from prettytable>=0.7.2->kqlmagic) (0.2.5)\n",
                        "Collecting widgetsnbextension~=3.5.0\n",
                        "  Downloading widgetsnbextension-3.5.2-py2.py3-none-any.whl (1.6 MB)\n",
                        "     |████████████████████████████████| 1.6 MB 75.7 MB/s            \n",
                        "\u001b[?25hCollecting jupyterlab-widgets>=1.0.0\n",
                        "  Downloading jupyterlab_widgets-1.0.2-py3-none-any.whl (243 kB)\n",
                        "     |████████████████████████████████| 243 kB 100.5 MB/s            \n",
                        "\u001b[?25hCollecting ipython-genutils~=0.2.0\n",
                        "  Downloading ipython_genutils-0.2.0-py2.py3-none-any.whl (26 kB)\n",
                        "Collecting nbformat>=4.2.0\n",
                        "  Downloading nbformat-5.1.3-py3-none-any.whl (178 kB)\n",
                        "     |████████████████████████████████| 178 kB 87.7 MB/s            \n",
                        "\u001b[?25hCollecting pycparser\n",
                        "  Downloading pycparser-2.21-py2.py3-none-any.whl (118 kB)\n",
                        "     |████████████████████████████████| 118 kB 115.4 MB/s            \n",
                        "\u001b[?25hCollecting zipp>=0.5\n",
                        "  Downloading zipp-3.7.0-py3-none-any.whl (5.3 kB)\n",
                        "Requirement already satisfied: parso<0.9.0,>=0.8.0 in /home/codespace/.local/lib/python3.8/site-packages (from jedi>=0.16->ipython>=7.1.1->kqlmagic) (0.8.3)\n",
                        "Collecting MarkupSafe>=2.0\n",
                        "  Downloading MarkupSafe-2.0.1-cp38-cp38-manylinux_2_5_x86_64.manylinux1_x86_64.manylinux_2_12_x86_64.manylinux2010_x86_64.whl (30 kB)\n",
                        "Requirement already satisfied: pyzmq>=13 in /home/codespace/.local/lib/python3.8/site-packages (from jupyter-client<8.0->ipykernel>=5.1.1->kqlmagic) (22.3.0)\n",
                        "Requirement already satisfied: entrypoints in /home/codespace/.local/lib/python3.8/site-packages (from jupyter-client<8.0->ipykernel>=5.1.1->kqlmagic) (0.3)\n",
                        "Requirement already satisfied: jupyter-core>=4.6.0 in /home/codespace/.local/lib/python3.8/site-packages (from jupyter-client<8.0->ipykernel>=5.1.1->kqlmagic) (4.9.1)\n",
                        "Collecting requests-oauthlib>=0.5.0\n",
                        "  Downloading requests_oauthlib-1.3.1-py2.py3-none-any.whl (23 kB)\n",
                        "Requirement already satisfied: certifi>=2017.4.17 in /usr/lib/python3/dist-packages (from msrest<2.0.0,>=0.6.0->msrestazure>=0.6.3->kqlmagic) (2019.11.28)\n",
                        "Collecting jsonschema!=2.5.0,>=2.4\n",
                        "  Downloading jsonschema-4.4.0-py3-none-any.whl (72 kB)\n",
                        "     |████████████████████████████████| 72 kB 363 kB/s             \n",
                        "\u001b[?25hRequirement already satisfied: ptyprocess>=0.5 in /home/codespace/.local/lib/python3.8/site-packages (from pexpect>4.3->ipython>=7.1.1->kqlmagic) (0.7.0)\n",
                        "Collecting notebook>=4.4.1\n",
                        "  Downloading notebook-6.4.8-py3-none-any.whl (9.9 MB)\n",
                        "     |████████████████████████████████| 9.9 MB 108.5 MB/s            \n",
                        "\u001b[?25hRequirement already satisfied: pathspec>=0.9.0 in /home/codespace/.local/lib/python3.8/site-packages (from black->ipython>=7.1.1->kqlmagic) (0.9.0)\n",
                        "Requirement already satisfied: typing-extensions>=3.10.0.0 in /home/codespace/.local/lib/python3.8/site-packages (from black->ipython>=7.1.1->kqlmagic) (4.0.1)\n",
                        "Requirement already satisfied: tomli>=1.1.0 in /home/codespace/.local/lib/python3.8/site-packages (from black->ipython>=7.1.1->kqlmagic) (2.0.0)\n",
                        "Requirement already satisfied: mypy-extensions>=0.4.3 in /home/codespace/.local/lib/python3.8/site-packages (from black->ipython>=7.1.1->kqlmagic) (0.4.3)\n",
                        "Requirement already satisfied: platformdirs>=2 in /home/codespace/.local/lib/python3.8/site-packages (from black->ipython>=7.1.1->kqlmagic) (2.4.1)\n",
                        "Requirement already satisfied: asttokens in /home/codespace/.local/lib/python3.8/site-packages (from stack-data->ipython>=7.1.1->kqlmagic) (2.0.5)\n",
                        "Requirement already satisfied: pure-eval in /home/codespace/.local/lib/python3.8/site-packages (from stack-data->ipython>=7.1.1->kqlmagic) (0.2.2)\n",
                        "Requirement already satisfied: executing in /home/codespace/.local/lib/python3.8/site-packages (from stack-data->ipython>=7.1.1->kqlmagic) (0.8.2)\n",
                        "Collecting attrs>=17.4.0\n",
                        "  Downloading attrs-21.4.0-py2.py3-none-any.whl (60 kB)\n",
                        "     |████████████████████████████████| 60 kB 4.0 MB/s             \n",
                        "\u001b[?25hCollecting pyrsistent!=0.17.0,!=0.17.1,!=0.17.2,>=0.14.0\n",
                        "  Downloading pyrsistent-0.18.1-cp38-cp38-manylinux_2_17_x86_64.manylinux2014_x86_64.whl (119 kB)\n",
                        "     |████████████████████████████████| 119 kB 76.0 MB/s            \n",
                        "\u001b[?25hCollecting importlib-resources>=1.4.0\n",
                        "  Downloading importlib_resources-5.4.0-py3-none-any.whl (28 kB)\n",
                        "Collecting terminado>=0.8.3\n",
                        "  Downloading terminado-0.13.1-py3-none-any.whl (14 kB)\n",
                        "Collecting Send2Trash>=1.8.0\n",
                        "  Downloading Send2Trash-1.8.0-py3-none-any.whl (18 kB)\n",
                        "Collecting prometheus-client\n",
                        "  Downloading prometheus_client-0.13.1-py3-none-any.whl (57 kB)\n",
                        "     |████████████████████████████████| 57 kB 2.4 MB/s             \n",
                        "\u001b[?25hCollecting argon2-cffi\n",
                        "  Downloading argon2_cffi-21.3.0-py3-none-any.whl (14 kB)\n",
                        "Collecting nbconvert\n",
                        "  Downloading nbconvert-6.4.1-py3-none-any.whl (557 kB)\n",
                        "     |████████████████████████████████| 557 kB 83.7 MB/s            \n",
                        "\u001b[?25hCollecting oauthlib>=3.0.0\n",
                        "  Downloading oauthlib-3.2.0-py3-none-any.whl (151 kB)\n",
                        "     |████████████████████████████████| 151 kB 103.2 MB/s            \n",
                        "\u001b[?25hCollecting argon2-cffi-bindings\n",
                        "  Downloading argon2_cffi_bindings-21.2.0-cp36-abi3-manylinux_2_17_x86_64.manylinux2014_x86_64.whl (86 kB)\n",
                        "     |████████████████████████████████| 86 kB 2.5 MB/s              \n",
                        "\u001b[?25hCollecting defusedxml\n",
                        "  Downloading defusedxml-0.7.1-py2.py3-none-any.whl (25 kB)\n",
                        "Collecting pandocfilters>=1.4.1\n",
                        "  Downloading pandocfilters-1.5.0-py2.py3-none-any.whl (8.7 kB)\n",
                        "Collecting mistune<2,>=0.8.1\n",
                        "  Downloading mistune-0.8.4-py2.py3-none-any.whl (16 kB)\n",
                        "Collecting jupyterlab-pygments\n",
                        "  Downloading jupyterlab_pygments-0.1.2-py2.py3-none-any.whl (4.6 kB)\n",
                        "Collecting testpath\n",
                        "  Downloading testpath-0.5.0-py3-none-any.whl (84 kB)\n",
                        "     |████████████████████████████████| 84 kB 1.1 MB/s             \n",
                        "\u001b[?25hCollecting Pygments>=2.2.0\n",
                        "  Downloading Pygments-2.11.2-py3-none-any.whl (1.1 MB)\n",
                        "     |████████████████████████████████| 1.1 MB 69.6 MB/s            \n",
                        "\u001b[?25hCollecting nbclient<0.6.0,>=0.5.0\n",
                        "  Downloading nbclient-0.5.10-py3-none-any.whl (69 kB)\n",
                        "     |████████████████████████████████| 69 kB 3.8 MB/s             \n",
                        "\u001b[?25hCollecting bleach\n",
                        "  Downloading bleach-4.1.0-py2.py3-none-any.whl (157 kB)\n",
                        "     |████████████████████████████████| 157 kB 104.9 MB/s            \n",
                        "\u001b[?25hCollecting webencodings\n",
                        "  Downloading webencodings-0.5.1-py2.py3-none-any.whl (11 kB)\n",
                        "Building wheels for collected packages: pyperclip\n",
                        "  Building wheel for pyperclip (setup.py) ... \u001b[?25ldone\n",
                        "\u001b[?25h  Created wheel for pyperclip: filename=pyperclip-1.8.2-py3-none-any.whl size=11107 sha256=2d3c1d6fbe525f71b8f10d9b16b39494a67f32d71b49d3964b1b176c76a12e2f\n",
                        "  Stored in directory: /home/codespace/.cache/pip/wheels/7f/1a/65/84ff8c386bec21fca6d220ea1f5498a0367883a78dd5ba6122\n",
                        "Successfully built pyperclip\n",
                        "Installing collected packages: zipp, pyrsistent, importlib-resources, attrs, pyparsing, pycparser, jsonschema, ipython-genutils, webencodings, Pygments, packaging, nbformat, MarkupSafe, cffi, testpath, PyJWT, pandocfilters, nbclient, mistune, jupyterlab-pygments, Jinja2, defusedxml, cryptography, bleach, argon2-cffi-bindings, terminado, Send2Trash, prometheus-client, oauthlib, nbconvert, argon2-cffi, requests-oauthlib, portalocker, notebook, msal, isodate, widgetsnbextension, Werkzeug, tenacity, soupsieve, pytz, pillow, numpy, msrest, msal-extensions, kiwisolver, jupyterlab-widgets, itsdangerous, importlib-metadata, fonttools, cycler, azure-core, adal, pyperclip, psutil, prettytable, plotly, password-strength, pandas, msrestazure, matplotlib, Markdown, lxml, ipywidgets, flask, beautifulsoup4, azure-identity, azure-common, kqlmagic\n",
                        "\u001b[33m  WARNING: The script jsonschema is installed in '/home/codespace/.local/bin' which is not on PATH.\n",
                        "  Consider adding this directory to PATH or, if you prefer to suppress this warning, use --no-warn-script-location.\u001b[0m\n",
                        "\u001b[33m  WARNING: The script pygmentize is installed in '/home/codespace/.local/bin' which is not on PATH.\n",
                        "  Consider adding this directory to PATH or, if you prefer to suppress this warning, use --no-warn-script-location.\u001b[0m\n",
                        "\u001b[33m  WARNING: The script jupyter-trust is installed in '/home/codespace/.local/bin' which is not on PATH.\n",
                        "  Consider adding this directory to PATH or, if you prefer to suppress this warning, use --no-warn-script-location.\u001b[0m\n",
                        "\u001b[33m  WARNING: The script jupyter-execute is installed in '/home/codespace/.local/bin' which is not on PATH.\n",
                        "  Consider adding this directory to PATH or, if you prefer to suppress this warning, use --no-warn-script-location.\u001b[0m\n",
                        "\u001b[33m  WARNING: The script send2trash is installed in '/home/codespace/.local/bin' which is not on PATH.\n",
                        "  Consider adding this directory to PATH or, if you prefer to suppress this warning, use --no-warn-script-location.\u001b[0m\n",
                        "\u001b[33m  WARNING: The scripts jupyter-dejavu and jupyter-nbconvert are installed in '/home/codespace/.local/bin' which is not on PATH.\n",
                        "  Consider adding this directory to PATH or, if you prefer to suppress this warning, use --no-warn-script-location.\u001b[0m\n",
                        "\u001b[33m  WARNING: The scripts jupyter-bundlerextension, jupyter-nbextension, jupyter-notebook and jupyter-serverextension are installed in '/home/codespace/.local/bin' which is not on PATH.\n",
                        "  Consider adding this directory to PATH or, if you prefer to suppress this warning, use --no-warn-script-location.\u001b[0m\n",
                        "\u001b[33m  WARNING: The scripts f2py, f2py3 and f2py3.8 are installed in '/home/codespace/.local/bin' which is not on PATH.\n",
                        "  Consider adding this directory to PATH or, if you prefer to suppress this warning, use --no-warn-script-location.\u001b[0m\n",
                        "\u001b[33m  WARNING: The scripts fonttools, pyftmerge, pyftsubset and ttx are installed in '/home/codespace/.local/bin' which is not on PATH.\n",
                        "  Consider adding this directory to PATH or, if you prefer to suppress this warning, use --no-warn-script-location.\u001b[0m\n",
                        "\u001b[33m  WARNING: The script markdown_py is installed in '/home/codespace/.local/bin' which is not on PATH.\n",
                        "  Consider adding this directory to PATH or, if you prefer to suppress this warning, use --no-warn-script-location.\u001b[0m\n",
                        "\u001b[33m  WARNING: The script flask is installed in '/home/codespace/.local/bin' which is not on PATH.\n",
                        "  Consider adding this directory to PATH or, if you prefer to suppress this warning, use --no-warn-script-location.\u001b[0m\n",
                        "Successfully installed Jinja2-3.0.3 Markdown-3.3.6 MarkupSafe-2.0.1 PyJWT-2.3.0 Pygments-2.11.2 Send2Trash-1.8.0 Werkzeug-2.0.2 adal-1.2.7 argon2-cffi-21.3.0 argon2-cffi-bindings-21.2.0 attrs-21.4.0 azure-common-1.1.27 azure-core-1.21.1 azure-identity-1.7.1 beautifulsoup4-4.10.0 bleach-4.1.0 cffi-1.15.0 cryptography-36.0.1 cycler-0.11.0 defusedxml-0.7.1 flask-2.0.2 fonttools-4.29.1 importlib-metadata-4.10.1 importlib-resources-5.4.0 ipython-genutils-0.2.0 ipywidgets-7.6.5 isodate-0.6.1 itsdangerous-2.0.1 jsonschema-4.4.0 jupyterlab-pygments-0.1.2 jupyterlab-widgets-1.0.2 kiwisolver-1.3.2 kqlmagic-0.1.114.post12 lxml-4.7.1 matplotlib-3.5.1 mistune-0.8.4 msal-1.16.0 msal-extensions-0.3.1 msrest-0.6.21 msrestazure-0.6.4 nbclient-0.5.10 nbconvert-6.4.1 nbformat-5.1.3 notebook-6.4.8 numpy-1.22.1 oauthlib-3.2.0 packaging-21.3 pandas-1.4.0 pandocfilters-1.5.0 password-strength-0.0.3.post2 pillow-9.0.0 plotly-5.5.0 portalocker-2.3.2 prettytable-3.0.0 prometheus-client-0.13.1 psutil-5.9.0 pycparser-2.21 pyparsing-3.0.7 pyperclip-1.8.2 pyrsistent-0.18.1 pytz-2021.3 requests-oauthlib-1.3.1 soupsieve-2.3.1 tenacity-8.0.1 terminado-0.13.1 testpath-0.5.0 webencodings-0.5.1 widgetsnbextension-3.5.2 zipp-3.7.0\n",
                        "\u001b[33mWARNING: You are using pip version 21.3.1; however, version 22.0.2 is available.\n",
                        "You should consider upgrading via the '/usr/bin/python3 -m pip install --upgrade pip' command.\u001b[0m\n",
                        "Note: you may need to restart the kernel to use updated packages.\n"
                    ]
                }
            ],
            "source": [
                "pip install kqlmagic"
            ]
        },
        {
            "cell_type": "code",
            "execution_count": 2,
            "metadata": {
                "azdata_cell_guid": "abb045ac-dee8-4c58-b912-8e4f25bac4b2",
                "dotnet_interactive": {
                    "language": "csharp"
                }
            },
            "outputs": [
                {
                    "data": {
                        "text/html": [
                            "<html>\n",
                            "            <head>\n",
                            "            <title>Kqlmagic - banner</title>\n",
                            "            <style>\n",
                            "            .kql-magic-banner {\n",
                            "                display: flex; \n",
                            "                background-color: #d9edf7;\n",
                            "            }\n",
                            "            .kql-magic-banner > div {\n",
                            "                margin: 10px; \n",
                            "                padding: 20px; \n",
                            "                color: #3a87ad; \n",
                            "                font-size: 13px;\n",
                            "            }\n",
                            "            </style>\n",
                            "            </head>\n",
                            "            <body>\n",
                            "                <div class='kql-magic-banner'>\n",
                            "                    <div><img src='data:image/png;base64,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'></div>\n",
                            "                    <div>\n",
                            "                        <p>Kql Query Language, aka kql, is the query language for advanced analytics on Azure Monitor resources. The current supported data sources are \n",
                            "                        Azure Data Explorer (Kusto), Log Analytics and Application Insights. To get more information execute '%kql --help \"kql\"'</p>\n",
                            "                        <p>   \n",
                            "                          &bull; \n",
                            "                kql reference: Click on 'Help' tab > and Select 'kql reference' or execute '%kql --help \"kql\"'<br>\n",
                            "                          &bull; \n",
                            "                Kqlmagic configuration: execute '%config Kqlmagic'<br>\n",
                            "                          &bull; \n",
                            "                Kqlmagic usage: execute '%kql --usage'<br>\n",
                            "                          &bull; \n",
                            "                To report bug/issue: execute '%kql --bug-report'<br>                \n",
                            "                        </p> \n",
                            "                    </div>\n",
                            "                </div>\n",
                            "            </body>\n",
                            "            </html>"
                        ],
                        "text/plain": [
                            "<IPython.core.display.HTML object>"
                        ]
                    },
                    "metadata": {},
                    "output_type": "display_data"
                },
                {
                    "data": {
                        "text/html": [
                            "<html>\n",
                            "        <head>\n",
                            "            \n",
                            "            \n",
                            "        </head>\n",
                            "        <body>\n",
                            "            <div><p style=' padding: 10px; color: #3a87ad; background-color: #d9edf7; border-color: #bce9f1'>Kqlmagic&nbsp;package&nbsp;is&nbsp;updated&nbsp;frequently.&nbsp;Run&nbsp;&apos;!pip&nbsp;install&nbsp;Kqlmagic&nbsp;--no-cache-dir&nbsp;--upgrade&apos;&nbsp;to&nbsp;use&nbsp;the&nbsp;latest&nbsp;version.<br>Kqlmagic&nbsp;version:&nbsp;0.1.114.post12,&nbsp;source:&nbsp;https://github.com/Microsoft/jupyter-Kqlmagic</p></div>\n",
                            "        </body>\n",
                            "        </html>"
                        ],
                        "text/plain": [
                            "<IPython.core.display.HTML object>"
                        ]
                    },
                    "metadata": {},
                    "output_type": "display_data"
                },
                {
                    "data": {
                        "text/html": [
                            "<!DOCTYPE html>\n",
                            "            <html><body>\n",
                            "            <div style='padding: 10px; color: #3a87ad; background-color: #d9edf7; border-color: #bce9f1'>\n",
                            "            Click&nbsp;to&nbsp;find&nbsp;out&nbsp;what's&nbsp;new&nbsp;in&nbsp;Kqlmagic&nbsp;&nbsp;<a href='file:////workspaces/jubilant-data-wizards/Simple Demo/KQL Notebooks/kqlmagic/temp_files/3470e5e9-f242-4061-b57b-cdd45c593a22/what_new_history.html' style='padding: 2px 6px 2px 6px; color: #333333; background-color: #EEEEEE; border-top: 1px solid #CCCCCC; border-right: 1px solid #333333; border-bottom: 1px solid #333333; border-left: 1px solid #CCCCCC' target='what_new_history'>What's New? </a>\n",
                            "            </div>\n",
                            "            </body></html>"
                        ],
                        "text/plain": [
                            "<IPython.core.display.HTML object>"
                        ]
                    },
                    "metadata": {},
                    "output_type": "display_data"
                }
            ],
            "source": [
                "%reload_ext Kqlmagic"
            ]
        },
        {
            "cell_type": "markdown",
            "metadata": {
                "azdata_cell_guid": "07579cb8-09e8-4ab8-90af-dbc74f767322"
            },
            "source": [
                "### Connect to Kusto"
            ]
        },
        {
            "cell_type": "code",
            "execution_count": 3,
            "metadata": {
                "azdata_cell_guid": "d80ff325-0f0c-465d-b3ff-33181117d166",
                "dotnet_interactive": {
                    "language": "csharp"
                }
            },
            "outputs": [
                {
                    "data": {
                        "text/html": [
                            "<!DOCTYPE html>\n",
                            "            <html><body>\n",
                            "            <div style=''>\n",
                            "            <b>RNPMFE6RZ</b>&nbsp;<a href='https://microsoft.com/devicelogin' style='padding: 2px 6px 2px 6px; color: #333333; background-color: #EEEEEE; border-top: 1px solid #CCCCCC; border-right: 1px solid #333333; border-bottom: 1px solid #333333; border-left: 1px solid #CCCCCC' target='verification_url'>Copy code to clipboard and authenticate</a>\n",
                            "            </div>\n",
                            "            </body></html>"
                        ],
                        "text/plain": [
                            "<IPython.core.display.HTML object>"
                        ]
                    },
                    "metadata": {},
                    "output_type": "display_data"
                },
                {
                    "data": {
                        "text/html": [
                            "<!DOCTYPE html>\n",
                            "                            <html><body><script>\n",
                            "\n",
                            "                                // close authentication window\n",
                            "                                if (kql_MagicUserCodeAuthWindow && kql_MagicUserCodeAuthWindow.opener != null && !kql_MagicUserCodeAuthWindow.closed) {\n",
                            "                                    kql_MagicUserCodeAuthWindow.close()\n",
                            "                                }\n",
                            "                                // TODO: make sure, you clear the right cell. BTW, not sure it is a must to do any clearing\n",
                            "\n",
                            "                                // clear output cell\n",
                            "                                Jupyter.notebook.clear_output(Jupyter.notebook.get_selected_index())\n",
                            "\n",
                            "                                // TODO: if in run all mode, move to last cell, otherwise move to next cell\n",
                            "                                // move to next cell\n",
                            "\n",
                            "                            </script></body></html>"
                        ],
                        "text/plain": [
                            "<IPython.core.display.HTML object>"
                        ]
                    },
                    "metadata": {},
                    "output_type": "display_data"
                },
                {
                    "data": {
                        "text/html": [
                            "<!DOCTYPE html>\n",
                            "            <html><body>\n",
                            "            <div style=''>\n",
                            "            <a href='file:////workspaces/jubilant-data-wizards/Simple Demo/KQL Notebooks/kqlmagic/temp_files/3470e5e9-f242-4061-b57b-cdd45c593a22/_Samples_at_help_schema.html' style='padding: 2px 6px 2px 6px; color: #333333; background-color: #EEEEEE; border-top: 1px solid #CCCCCC; border-right: 1px solid #333333; border-bottom: 1px solid #333333; border-left: 1px solid #CCCCCC' target='_Samples_at_help_schema'>popup schema Samples@help</a>\n",
                            "            </div>\n",
                            "            </body></html>"
                        ],
                        "text/plain": [
                            "<IPython.core.display.HTML object>"
                        ]
                    },
                    "metadata": {},
                    "output_type": "display_data"
                }
            ],
            "source": [
                "%kql azureDataExplorer://code;cluster='help';database='Samples'"
            ]
        },
        {
            "cell_type": "markdown",
            "metadata": {
                "azdata_cell_guid": "e04e130b-d614-4e85-9f0e-8fc501ad3bf8"
            },
            "source": [
                "### Query Kusto"
            ]
        },
        {
            "cell_type": "code",
            "execution_count": 4,
            "metadata": {
                "azdata_cell_guid": "6bb1dc83-0f23-4662-96de-c4be344ec2b7",
                "dotnet_interactive": {
                    "language": "csharp"
                }
            },
            "outputs": [
                {
                    "data": {
                        "text/html": [
                            "<html>\n",
                            "        <head>\n",
                            "            \n",
                            "            \n",
                            "        </head>\n",
                            "        <body>\n",
                            "            <div><p style=' padding: 10px; color: #3a87ad; background-color: #d9edf7; border-color: #bce9f1'>&nbsp;*&nbsp;Samples@help</p></div>\n",
                            "        </body>\n",
                            "        </html>"
                        ],
                        "text/plain": [
                            "<IPython.core.display.HTML object>"
                        ]
                    },
                    "metadata": {},
                    "output_type": "display_data"
                },
                {
                    "data": {
                        "text/html": [
                            "<html>\n",
                            "        <head>\n",
                            "            \n",
                            "            <title>Kqlmagic - table</title>\n",
                            "        </head>\n",
                            "        <body>\n",
                            "            <table>\n",
                            "    <thead>\n",
                            "        <tr>\n",
                            "            <th>State</th>\n",
                            "            <th>count_</th>\n",
                            "        </tr>\n",
                            "    </thead>\n",
                            "    <tbody>\n",
                            "        <tr>\n",
                            "            <td>TEXAS</td>\n",
                            "            <td>4701</td>\n",
                            "        </tr>\n",
                            "        <tr>\n",
                            "            <td>KANSAS</td>\n",
                            "            <td>3166</td>\n",
                            "        </tr>\n",
                            "        <tr>\n",
                            "            <td>IOWA</td>\n",
                            "            <td>2337</td>\n",
                            "        </tr>\n",
                            "        <tr>\n",
                            "            <td>ILLINOIS</td>\n",
                            "            <td>2022</td>\n",
                            "        </tr>\n",
                            "        <tr>\n",
                            "            <td>MISSOURI</td>\n",
                            "            <td>2016</td>\n",
                            "        </tr>\n",
                            "        <tr>\n",
                            "            <td>GEORGIA</td>\n",
                            "            <td>1983</td>\n",
                            "        </tr>\n",
                            "        <tr>\n",
                            "            <td>MINNESOTA</td>\n",
                            "            <td>1881</td>\n",
                            "        </tr>\n",
                            "        <tr>\n",
                            "            <td>WISCONSIN</td>\n",
                            "            <td>1850</td>\n",
                            "        </tr>\n",
                            "        <tr>\n",
                            "            <td>NEBRASKA</td>\n",
                            "            <td>1766</td>\n",
                            "        </tr>\n",
                            "        <tr>\n",
                            "            <td>NEW YORK</td>\n",
                            "            <td>1750</td>\n",
                            "        </tr>\n",
                            "    </tbody>\n",
                            "</table>\n",
                            "        </body>\n",
                            "        </html>"
                        ],
                        "text/plain": [
                            "<IPython.core.display.HTML object>"
                        ]
                    },
                    "metadata": {},
                    "output_type": "display_data"
                },
                {
                    "data": {
                        "text/html": [
                            "<html>\n",
                            "        <head>\n",
                            "            \n",
                            "            \n",
                            "        </head>\n",
                            "        <body>\n",
                            "            <div><p style=' padding: 10px; color: #3a87ad; background-color: #d9edf7; border-color: #bce9f1'>Done&nbsp;(00:00.182):&nbsp;10&nbsp;records</p></div>\n",
                            "        </body>\n",
                            "        </html>"
                        ],
                        "text/plain": [
                            "<IPython.core.display.HTML object>"
                        ]
                    },
                    "metadata": {},
                    "output_type": "display_data"
                },
                {
                    "data": {
                        "text/html": [],
                        "text/plain": [
                            "[{'State': 'TEXAS', 'count_': 4701},\n",
                            " {'State': 'KANSAS', 'count_': 3166},\n",
                            " {'State': 'IOWA', 'count_': 2337},\n",
                            " {'State': 'ILLINOIS', 'count_': 2022},\n",
                            " {'State': 'MISSOURI', 'count_': 2016},\n",
                            " {'State': 'GEORGIA', 'count_': 1983},\n",
                            " {'State': 'MINNESOTA', 'count_': 1881},\n",
                            " {'State': 'WISCONSIN', 'count_': 1850},\n",
                            " {'State': 'NEBRASKA', 'count_': 1766},\n",
                            " {'State': 'NEW YORK', 'count_': 1750}]"
                        ]
                    },
                    "execution_count": 4,
                    "metadata": {},
                    "output_type": "execute_result"
                }
            ],
            "source": [
                "%kql StormEvents | summarize count() by State | sort by count_ | limit 10"
            ]
        },
        {
            "cell_type": "code",
            "execution_count": 5,
            "metadata": {},
            "outputs": [
                {
                    "data": {
                        "text/html": [
                            "<html>\n",
                            "        <head>\n",
                            "            \n",
                            "            \n",
                            "        </head>\n",
                            "        <body>\n",
                            "            <div><p style=' padding: 10px; color: #3a87ad; background-color: #d9edf7; border-color: #bce9f1'>&nbsp;*&nbsp;Samples@help</p></div>\n",
                            "        </body>\n",
                            "        </html>"
                        ],
                        "text/plain": [
                            "<IPython.core.display.HTML object>"
                        ]
                    },
                    "metadata": {},
                    "output_type": "display_data"
                },
                {
                    "data": {
                        "text/html": [
                            "        <script type=\"text/javascript\">\n",
                            "        window.PlotlyConfig = {MathJaxConfig: 'local'};\n",
                            "        if (window.MathJax) {MathJax.Hub.Config({SVG: {font: \"STIX-Web\"}});}\n",
                            "        if (typeof require !== 'undefined') {\n",
                            "        require.undef(\"plotly\");\n",
                            "        requirejs.config({\n",
                            "            paths: {\n",
                            "                'plotly': ['https://cdn.plot.ly/plotly-2.8.3.min']\n",
                            "            }\n",
                            "        });\n",
                            "        require(['plotly'], function(Plotly) {\n",
                            "            window._Plotly = Plotly;\n",
                            "        });\n",
                            "        }\n",
                            "        </script>\n",
                            "        "
                        ]
                    },
                    "metadata": {},
                    "output_type": "display_data"
                },
                {
                    "data": {
                        "application/vnd.plotly.v1+json": {
                            "config": {
                                "linkText": "Export to plot.ly",
                                "plotlyServerURL": "https://plot.ly",
                                "showLink": false
                            },
                            "data": [
                                {
                                    "line": {
                                        "color": "rgb(31, 118, 179)",
                                        "width": 1
                                    },
                                    "name": "event_count",
                                    "opacity": 0.8,
                                    "type": "scatter",
                                    "x": [
                                        "2007-01-01T00:00:00+00:00",
                                        "2007-01-02T00:00:00+00:00",
                                        "2007-01-03T00:00:00+00:00",
                                        "2007-01-04T00:00:00+00:00",
                                        "2007-01-05T00:00:00+00:00",
                                        "2007-01-06T00:00:00+00:00",
                                        "2007-01-07T00:00:00+00:00",
                                        "2007-01-08T00:00:00+00:00",
                                        "2007-01-09T00:00:00+00:00",
                                        "2007-01-10T00:00:00+00:00",
                                        "2007-01-11T00:00:00+00:00",
                                        "2007-01-12T00:00:00+00:00",
                                        "2007-01-13T00:00:00+00:00",
                                        "2007-01-14T00:00:00+00:00",
                                        "2007-01-15T00:00:00+00:00",
                                        "2007-01-16T00:00:00+00:00",
                                        "2007-01-17T00:00:00+00:00",
                                        "2007-01-18T00:00:00+00:00",
                                        "2007-01-19T00:00:00+00:00",
                                        "2007-01-20T00:00:00+00:00",
                                        "2007-01-21T00:00:00+00:00",
                                        "2007-01-22T00:00:00+00:00",
                                        "2007-01-23T00:00:00+00:00",
                                        "2007-01-24T00:00:00+00:00",
                                        "2007-01-25T00:00:00+00:00",
                                        "2007-01-26T00:00:00+00:00",
                                        "2007-01-27T00:00:00+00:00",
                                        "2007-01-28T00:00:00+00:00",
                                        "2007-01-29T00:00:00+00:00",
                                        "2007-01-30T00:00:00+00:00",
                                        "2007-01-31T00:00:00+00:00",
                                        "2007-02-01T00:00:00+00:00",
                                        "2007-02-02T00:00:00+00:00",
                                        "2007-02-03T00:00:00+00:00",
                                        "2007-02-04T00:00:00+00:00",
                                        "2007-02-05T00:00:00+00:00",
                                        "2007-02-06T00:00:00+00:00",
                                        "2007-02-07T00:00:00+00:00",
                                        "2007-02-08T00:00:00+00:00",
                                        "2007-02-09T00:00:00+00:00",
                                        "2007-02-10T00:00:00+00:00",
                                        "2007-02-11T00:00:00+00:00",
                                        "2007-02-12T00:00:00+00:00",
                                        "2007-02-13T00:00:00+00:00",
                                        "2007-02-14T00:00:00+00:00",
                                        "2007-02-15T00:00:00+00:00",
                                        "2007-02-16T00:00:00+00:00",
                                        "2007-02-17T00:00:00+00:00",
                                        "2007-02-18T00:00:00+00:00",
                                        "2007-02-19T00:00:00+00:00",
                                        "2007-02-20T00:00:00+00:00",
                                        "2007-02-21T00:00:00+00:00",
                                        "2007-02-22T00:00:00+00:00",
                                        "2007-02-23T00:00:00+00:00",
                                        "2007-02-24T00:00:00+00:00",
                                        "2007-02-25T00:00:00+00:00",
                                        "2007-02-26T00:00:00+00:00",
                                        "2007-02-27T00:00:00+00:00",
                                        "2007-02-28T00:00:00+00:00",
                                        "2007-03-01T00:00:00+00:00",
                                        "2007-03-02T00:00:00+00:00",
                                        "2007-03-03T00:00:00+00:00",
                                        "2007-03-04T00:00:00+00:00",
                                        "2007-03-05T00:00:00+00:00",
                                        "2007-03-06T00:00:00+00:00",
                                        "2007-03-07T00:00:00+00:00",
                                        "2007-03-08T00:00:00+00:00",
                                        "2007-03-09T00:00:00+00:00",
                                        "2007-03-10T00:00:00+00:00",
                                        "2007-03-11T00:00:00+00:00",
                                        "2007-03-12T00:00:00+00:00",
                                        "2007-03-13T00:00:00+00:00",
                                        "2007-03-14T00:00:00+00:00",
                                        "2007-03-15T00:00:00+00:00",
                                        "2007-03-16T00:00:00+00:00",
                                        "2007-03-17T00:00:00+00:00",
                                        "2007-03-18T00:00:00+00:00",
                                        "2007-03-19T00:00:00+00:00",
                                        "2007-03-20T00:00:00+00:00",
                                        "2007-03-21T00:00:00+00:00",
                                        "2007-03-22T00:00:00+00:00",
                                        "2007-03-23T00:00:00+00:00",
                                        "2007-03-24T00:00:00+00:00",
                                        "2007-03-25T00:00:00+00:00",
                                        "2007-03-26T00:00:00+00:00",
                                        "2007-03-27T00:00:00+00:00",
                                        "2007-03-28T00:00:00+00:00",
                                        "2007-03-29T00:00:00+00:00",
                                        "2007-03-30T00:00:00+00:00",
                                        "2007-03-31T00:00:00+00:00",
                                        "2007-04-01T00:00:00+00:00",
                                        "2007-04-02T00:00:00+00:00",
                                        "2007-04-03T00:00:00+00:00",
                                        "2007-04-04T00:00:00+00:00",
                                        "2007-04-05T00:00:00+00:00",
                                        "2007-04-06T00:00:00+00:00",
                                        "2007-04-07T00:00:00+00:00",
                                        "2007-04-08T00:00:00+00:00",
                                        "2007-04-09T00:00:00+00:00",
                                        "2007-04-10T00:00:00+00:00",
                                        "2007-04-11T00:00:00+00:00",
                                        "2007-04-12T00:00:00+00:00",
                                        "2007-04-13T00:00:00+00:00",
                                        "2007-04-14T00:00:00+00:00",
                                        "2007-04-15T00:00:00+00:00",
                                        "2007-04-16T00:00:00+00:00",
                                        "2007-04-17T00:00:00+00:00",
                                        "2007-04-18T00:00:00+00:00",
                                        "2007-04-19T00:00:00+00:00",
                                        "2007-04-20T00:00:00+00:00",
                                        "2007-04-21T00:00:00+00:00",
                                        "2007-04-22T00:00:00+00:00",
                                        "2007-04-23T00:00:00+00:00",
                                        "2007-04-24T00:00:00+00:00",
                                        "2007-04-25T00:00:00+00:00",
                                        "2007-04-26T00:00:00+00:00",
                                        "2007-04-27T00:00:00+00:00",
                                        "2007-04-28T00:00:00+00:00",
                                        "2007-04-29T00:00:00+00:00",
                                        "2007-04-30T00:00:00+00:00",
                                        "2007-05-01T00:00:00+00:00",
                                        "2007-05-02T00:00:00+00:00",
                                        "2007-05-03T00:00:00+00:00",
                                        "2007-05-04T00:00:00+00:00",
                                        "2007-05-05T00:00:00+00:00",
                                        "2007-05-06T00:00:00+00:00",
                                        "2007-05-07T00:00:00+00:00",
                                        "2007-05-08T00:00:00+00:00",
                                        "2007-05-09T00:00:00+00:00",
                                        "2007-05-10T00:00:00+00:00",
                                        "2007-05-11T00:00:00+00:00",
                                        "2007-05-12T00:00:00+00:00",
                                        "2007-05-13T00:00:00+00:00",
                                        "2007-05-14T00:00:00+00:00",
                                        "2007-05-15T00:00:00+00:00",
                                        "2007-05-16T00:00:00+00:00",
                                        "2007-05-17T00:00:00+00:00",
                                        "2007-05-18T00:00:00+00:00",
                                        "2007-05-19T00:00:00+00:00",
                                        "2007-05-20T00:00:00+00:00",
                                        "2007-05-21T00:00:00+00:00",
                                        "2007-05-22T00:00:00+00:00",
                                        "2007-05-23T00:00:00+00:00",
                                        "2007-05-24T00:00:00+00:00",
                                        "2007-05-25T00:00:00+00:00",
                                        "2007-05-26T00:00:00+00:00",
                                        "2007-05-27T00:00:00+00:00",
                                        "2007-05-28T00:00:00+00:00",
                                        "2007-05-29T00:00:00+00:00",
                                        "2007-05-30T00:00:00+00:00",
                                        "2007-05-31T00:00:00+00:00",
                                        "2007-06-01T00:00:00+00:00",
                                        "2007-06-02T00:00:00+00:00",
                                        "2007-06-03T00:00:00+00:00",
                                        "2007-06-04T00:00:00+00:00",
                                        "2007-06-05T00:00:00+00:00",
                                        "2007-06-06T00:00:00+00:00",
                                        "2007-06-07T00:00:00+00:00",
                                        "2007-06-08T00:00:00+00:00",
                                        "2007-06-09T00:00:00+00:00",
                                        "2007-06-10T00:00:00+00:00",
                                        "2007-06-11T00:00:00+00:00",
                                        "2007-06-12T00:00:00+00:00",
                                        "2007-06-13T00:00:00+00:00",
                                        "2007-06-14T00:00:00+00:00",
                                        "2007-06-15T00:00:00+00:00",
                                        "2007-06-16T00:00:00+00:00",
                                        "2007-06-17T00:00:00+00:00",
                                        "2007-06-18T00:00:00+00:00",
                                        "2007-06-19T00:00:00+00:00",
                                        "2007-06-20T00:00:00+00:00",
                                        "2007-06-21T00:00:00+00:00",
                                        "2007-06-22T00:00:00+00:00",
                                        "2007-06-23T00:00:00+00:00",
                                        "2007-06-24T00:00:00+00:00",
                                        "2007-06-25T00:00:00+00:00",
                                        "2007-06-26T00:00:00+00:00",
                                        "2007-06-27T00:00:00+00:00",
                                        "2007-06-28T00:00:00+00:00",
                                        "2007-06-29T00:00:00+00:00",
                                        "2007-06-30T00:00:00+00:00",
                                        "2007-07-01T00:00:00+00:00",
                                        "2007-07-02T00:00:00+00:00",
                                        "2007-07-03T00:00:00+00:00",
                                        "2007-07-04T00:00:00+00:00",
                                        "2007-07-05T00:00:00+00:00",
                                        "2007-07-06T00:00:00+00:00",
                                        "2007-07-07T00:00:00+00:00",
                                        "2007-07-08T00:00:00+00:00",
                                        "2007-07-09T00:00:00+00:00",
                                        "2007-07-10T00:00:00+00:00",
                                        "2007-07-11T00:00:00+00:00",
                                        "2007-07-12T00:00:00+00:00",
                                        "2007-07-13T00:00:00+00:00",
                                        "2007-07-14T00:00:00+00:00",
                                        "2007-07-15T00:00:00+00:00",
                                        "2007-07-16T00:00:00+00:00",
                                        "2007-07-17T00:00:00+00:00",
                                        "2007-07-18T00:00:00+00:00",
                                        "2007-07-19T00:00:00+00:00",
                                        "2007-07-20T00:00:00+00:00",
                                        "2007-07-21T00:00:00+00:00",
                                        "2007-07-22T00:00:00+00:00",
                                        "2007-07-23T00:00:00+00:00",
                                        "2007-07-24T00:00:00+00:00",
                                        "2007-07-25T00:00:00+00:00",
                                        "2007-07-26T00:00:00+00:00",
                                        "2007-07-27T00:00:00+00:00",
                                        "2007-07-28T00:00:00+00:00",
                                        "2007-07-29T00:00:00+00:00",
                                        "2007-07-30T00:00:00+00:00",
                                        "2007-07-31T00:00:00+00:00",
                                        "2007-08-01T00:00:00+00:00",
                                        "2007-08-02T00:00:00+00:00",
                                        "2007-08-03T00:00:00+00:00",
                                        "2007-08-04T00:00:00+00:00",
                                        "2007-08-05T00:00:00+00:00",
                                        "2007-08-06T00:00:00+00:00",
                                        "2007-08-07T00:00:00+00:00",
                                        "2007-08-08T00:00:00+00:00",
                                        "2007-08-09T00:00:00+00:00",
                                        "2007-08-10T00:00:00+00:00",
                                        "2007-08-11T00:00:00+00:00",
                                        "2007-08-12T00:00:00+00:00",
                                        "2007-08-13T00:00:00+00:00",
                                        "2007-08-14T00:00:00+00:00",
                                        "2007-08-15T00:00:00+00:00",
                                        "2007-08-16T00:00:00+00:00",
                                        "2007-08-17T00:00:00+00:00",
                                        "2007-08-18T00:00:00+00:00",
                                        "2007-08-19T00:00:00+00:00",
                                        "2007-08-20T00:00:00+00:00",
                                        "2007-08-21T00:00:00+00:00",
                                        "2007-08-22T00:00:00+00:00",
                                        "2007-08-23T00:00:00+00:00",
                                        "2007-08-24T00:00:00+00:00",
                                        "2007-08-25T00:00:00+00:00",
                                        "2007-08-26T00:00:00+00:00",
                                        "2007-08-27T00:00:00+00:00",
                                        "2007-08-28T00:00:00+00:00",
                                        "2007-08-29T00:00:00+00:00",
                                        "2007-08-30T00:00:00+00:00",
                                        "2007-08-31T00:00:00+00:00",
                                        "2007-09-01T00:00:00+00:00",
                                        "2007-09-02T00:00:00+00:00",
                                        "2007-09-03T00:00:00+00:00",
                                        "2007-09-04T00:00:00+00:00",
                                        "2007-09-05T00:00:00+00:00",
                                        "2007-09-06T00:00:00+00:00",
                                        "2007-09-07T00:00:00+00:00",
                                        "2007-09-08T00:00:00+00:00",
                                        "2007-09-09T00:00:00+00:00",
                                        "2007-09-10T00:00:00+00:00",
                                        "2007-09-11T00:00:00+00:00",
                                        "2007-09-12T00:00:00+00:00",
                                        "2007-09-13T00:00:00+00:00",
                                        "2007-09-14T00:00:00+00:00",
                                        "2007-09-15T00:00:00+00:00",
                                        "2007-09-16T00:00:00+00:00",
                                        "2007-09-17T00:00:00+00:00",
                                        "2007-09-18T00:00:00+00:00",
                                        "2007-09-19T00:00:00+00:00",
                                        "2007-09-20T00:00:00+00:00",
                                        "2007-09-21T00:00:00+00:00",
                                        "2007-09-22T00:00:00+00:00",
                                        "2007-09-23T00:00:00+00:00",
                                        "2007-09-24T00:00:00+00:00",
                                        "2007-09-25T00:00:00+00:00",
                                        "2007-09-26T00:00:00+00:00",
                                        "2007-09-27T00:00:00+00:00",
                                        "2007-09-28T00:00:00+00:00",
                                        "2007-09-29T00:00:00+00:00",
                                        "2007-09-30T00:00:00+00:00",
                                        "2007-10-01T00:00:00+00:00",
                                        "2007-10-02T00:00:00+00:00",
                                        "2007-10-03T00:00:00+00:00",
                                        "2007-10-04T00:00:00+00:00",
                                        "2007-10-05T00:00:00+00:00",
                                        "2007-10-06T00:00:00+00:00",
                                        "2007-10-07T00:00:00+00:00",
                                        "2007-10-08T00:00:00+00:00",
                                        "2007-10-09T00:00:00+00:00",
                                        "2007-10-10T00:00:00+00:00",
                                        "2007-10-11T00:00:00+00:00",
                                        "2007-10-12T00:00:00+00:00",
                                        "2007-10-13T00:00:00+00:00",
                                        "2007-10-14T00:00:00+00:00",
                                        "2007-10-15T00:00:00+00:00",
                                        "2007-10-16T00:00:00+00:00",
                                        "2007-10-17T00:00:00+00:00",
                                        "2007-10-18T00:00:00+00:00",
                                        "2007-10-19T00:00:00+00:00",
                                        "2007-10-20T00:00:00+00:00",
                                        "2007-10-21T00:00:00+00:00",
                                        "2007-10-22T00:00:00+00:00",
                                        "2007-10-23T00:00:00+00:00",
                                        "2007-10-24T00:00:00+00:00",
                                        "2007-10-25T00:00:00+00:00",
                                        "2007-10-26T00:00:00+00:00",
                                        "2007-10-27T00:00:00+00:00",
                                        "2007-10-28T00:00:00+00:00",
                                        "2007-10-29T00:00:00+00:00",
                                        "2007-10-30T00:00:00+00:00",
                                        "2007-10-31T00:00:00+00:00",
                                        "2007-11-01T00:00:00+00:00",
                                        "2007-11-02T00:00:00+00:00",
                                        "2007-11-03T00:00:00+00:00",
                                        "2007-11-04T00:00:00+00:00",
                                        "2007-11-05T00:00:00+00:00",
                                        "2007-11-06T00:00:00+00:00",
                                        "2007-11-07T00:00:00+00:00",
                                        "2007-11-08T00:00:00+00:00",
                                        "2007-11-09T00:00:00+00:00",
                                        "2007-11-10T00:00:00+00:00",
                                        "2007-11-11T00:00:00+00:00",
                                        "2007-11-12T00:00:00+00:00",
                                        "2007-11-13T00:00:00+00:00",
                                        "2007-11-14T00:00:00+00:00",
                                        "2007-11-15T00:00:00+00:00",
                                        "2007-11-16T00:00:00+00:00",
                                        "2007-11-17T00:00:00+00:00",
                                        "2007-11-18T00:00:00+00:00",
                                        "2007-11-19T00:00:00+00:00",
                                        "2007-11-20T00:00:00+00:00",
                                        "2007-11-21T00:00:00+00:00",
                                        "2007-11-22T00:00:00+00:00",
                                        "2007-11-23T00:00:00+00:00",
                                        "2007-11-24T00:00:00+00:00",
                                        "2007-11-25T00:00:00+00:00",
                                        "2007-11-26T00:00:00+00:00",
                                        "2007-11-27T00:00:00+00:00",
                                        "2007-11-28T00:00:00+00:00",
                                        "2007-11-29T00:00:00+00:00",
                                        "2007-11-30T00:00:00+00:00",
                                        "2007-12-01T00:00:00+00:00",
                                        "2007-12-02T00:00:00+00:00",
                                        "2007-12-03T00:00:00+00:00",
                                        "2007-12-04T00:00:00+00:00",
                                        "2007-12-05T00:00:00+00:00",
                                        "2007-12-06T00:00:00+00:00",
                                        "2007-12-07T00:00:00+00:00",
                                        "2007-12-08T00:00:00+00:00",
                                        "2007-12-09T00:00:00+00:00",
                                        "2007-12-10T00:00:00+00:00",
                                        "2007-12-11T00:00:00+00:00",
                                        "2007-12-12T00:00:00+00:00",
                                        "2007-12-13T00:00:00+00:00",
                                        "2007-12-14T00:00:00+00:00",
                                        "2007-12-15T00:00:00+00:00",
                                        "2007-12-16T00:00:00+00:00",
                                        "2007-12-17T00:00:00+00:00",
                                        "2007-12-18T00:00:00+00:00",
                                        "2007-12-19T00:00:00+00:00",
                                        "2007-12-20T00:00:00+00:00",
                                        "2007-12-21T00:00:00+00:00",
                                        "2007-12-22T00:00:00+00:00",
                                        "2007-12-23T00:00:00+00:00",
                                        "2007-12-24T00:00:00+00:00",
                                        "2007-12-25T00:00:00+00:00",
                                        "2007-12-26T00:00:00+00:00",
                                        "2007-12-27T00:00:00+00:00",
                                        "2007-12-28T00:00:00+00:00",
                                        "2007-12-29T00:00:00+00:00",
                                        "2007-12-30T00:00:00+00:00",
                                        "2007-12-31T00:00:00+00:00"
                                    ],
                                    "y": [
                                        200,
                                        66,
                                        45,
                                        85,
                                        152,
                                        51,
                                        69,
                                        66,
                                        62,
                                        52,
                                        58,
                                        358,
                                        174,
                                        262,
                                        194,
                                        93,
                                        39,
                                        93,
                                        136,
                                        386,
                                        226,
                                        26,
                                        22,
                                        12,
                                        95,
                                        51,
                                        24,
                                        80,
                                        44,
                                        45,
                                        78,
                                        372,
                                        182,
                                        179,
                                        69,
                                        117,
                                        217,
                                        89,
                                        6,
                                        4,
                                        6,
                                        32,
                                        250,
                                        638,
                                        200,
                                        66,
                                        164,
                                        103,
                                        22,
                                        52,
                                        60,
                                        40,
                                        121,
                                        154,
                                        1014,
                                        211,
                                        42,
                                        112,
                                        250,
                                        867,
                                        395,
                                        17,
                                        5,
                                        65,
                                        121,
                                        87,
                                        12,
                                        60,
                                        42,
                                        55,
                                        72,
                                        115,
                                        127,
                                        80,
                                        337,
                                        54,
                                        11,
                                        10,
                                        44,
                                        143,
                                        52,
                                        215,
                                        106,
                                        51,
                                        89,
                                        169,
                                        423,
                                        118,
                                        188,
                                        224,
                                        150,
                                        144,
                                        902,
                                        286,
                                        222,
                                        259,
                                        502,
                                        298,
                                        134,
                                        212,
                                        316,
                                        192,
                                        234,
                                        128,
                                        468,
                                        351,
                                        113,
                                        63,
                                        22,
                                        59,
                                        220,
                                        40,
                                        184,
                                        328,
                                        156,
                                        80,
                                        71,
                                        8,
                                        67,
                                        80,
                                        575,
                                        220,
                                        201,
                                        246,
                                        546,
                                        487,
                                        206,
                                        140,
                                        83,
                                        189,
                                        73,
                                        73,
                                        181,
                                        212,
                                        389,
                                        131,
                                        21,
                                        58,
                                        53,
                                        41,
                                        106,
                                        158,
                                        323,
                                        169,
                                        122,
                                        83,
                                        137,
                                        110,
                                        165,
                                        118,
                                        268,
                                        722,
                                        271,
                                        262,
                                        143,
                                        354,
                                        265,
                                        359,
                                        460,
                                        137,
                                        217,
                                        270,
                                        407,
                                        402,
                                        77,
                                        112,
                                        215,
                                        237,
                                        272,
                                        592,
                                        328,
                                        442,
                                        221,
                                        93,
                                        266,
                                        223,
                                        319,
                                        464,
                                        203,
                                        187,
                                        155,
                                        579,
                                        131,
                                        198,
                                        172,
                                        204,
                                        214,
                                        85,
                                        231,
                                        471,
                                        340,
                                        194,
                                        145,
                                        161,
                                        99,
                                        284,
                                        240,
                                        180,
                                        344,
                                        274,
                                        163,
                                        132,
                                        49,
                                        108,
                                        104,
                                        113,
                                        268,
                                        252,
                                        116,
                                        108,
                                        75,
                                        71,
                                        566,
                                        96,
                                        371,
                                        70,
                                        224,
                                        209,
                                        266,
                                        313,
                                        291,
                                        254,
                                        217,
                                        194,
                                        249,
                                        106,
                                        164,
                                        431,
                                        376,
                                        139,
                                        211,
                                        319,
                                        349,
                                        345,
                                        473,
                                        402,
                                        397,
                                        119,
                                        118,
                                        184,
                                        109,
                                        117,
                                        61,
                                        559,
                                        29,
                                        19,
                                        50,
                                        59,
                                        148,
                                        50,
                                        66,
                                        44,
                                        31,
                                        43,
                                        22,
                                        55,
                                        103,
                                        10,
                                        36,
                                        21,
                                        101,
                                        29,
                                        148,
                                        140,
                                        36,
                                        20,
                                        30,
                                        86,
                                        106,
                                        112,
                                        76,
                                        84,
                                        154,
                                        531,
                                        63,
                                        12,
                                        35,
                                        78,
                                        34,
                                        23,
                                        19,
                                        24,
                                        39,
                                        30,
                                        17,
                                        42,
                                        88,
                                        31,
                                        23,
                                        385,
                                        572,
                                        86,
                                        62,
                                        48,
                                        59,
                                        29,
                                        80,
                                        12,
                                        7,
                                        34,
                                        21,
                                        126,
                                        20,
                                        3,
                                        335,
                                        14,
                                        49,
                                        38,
                                        73,
                                        14,
                                        62,
                                        2,
                                        8,
                                        4,
                                        5,
                                        87,
                                        103,
                                        91,
                                        8,
                                        14,
                                        20,
                                        43,
                                        75,
                                        51,
                                        106,
                                        25,
                                        87,
                                        25,
                                        20,
                                        17,
                                        41,
                                        30,
                                        6,
                                        52,
                                        948,
                                        199,
                                        210,
                                        135,
                                        138,
                                        146,
                                        119,
                                        133,
                                        188,
                                        254,
                                        196,
                                        11,
                                        202,
                                        111,
                                        405,
                                        288,
                                        28,
                                        39,
                                        137,
                                        107,
                                        136,
                                        255,
                                        273,
                                        41,
                                        78,
                                        61,
                                        99,
                                        131,
                                        48,
                                        77,
                                        105
                                    ]
                                }
                            ],
                            "layout": {
                                "showlegend": true,
                                "template": {
                                    "data": {
                                        "bar": [
                                            {
                                                "error_x": {
                                                    "color": "#2a3f5f"
                                                },
                                                "error_y": {
                                                    "color": "#2a3f5f"
                                                },
                                                "marker": {
                                                    "line": {
                                                        "color": "#E5ECF6",
                                                        "width": 0.5
                                                    },
                                                    "pattern": {
                                                        "fillmode": "overlay",
                                                        "size": 10,
                                                        "solidity": 0.2
                                                    }
                                                },
                                                "type": "bar"
                                            }
                                        ],
                                        "barpolar": [
                                            {
                                                "marker": {
                                                    "line": {
                                                        "color": "#E5ECF6",
                                                        "width": 0.5
                                                    },
                                                    "pattern": {
                                                        "fillmode": "overlay",
                                                        "size": 10,
                                                        "solidity": 0.2
                                                    }
                                                },
                                                "type": "barpolar"
                                            }
                                        ],
                                        "carpet": [
                                            {
                                                "aaxis": {
                                                    "endlinecolor": "#2a3f5f",
                                                    "gridcolor": "white",
                                                    "linecolor": "white",
                                                    "minorgridcolor": "white",
                                                    "startlinecolor": "#2a3f5f"
                                                },
                                                "baxis": {
                                                    "endlinecolor": "#2a3f5f",
                                                    "gridcolor": "white",
                                                    "linecolor": "white",
                                                    "minorgridcolor": "white",
                                                    "startlinecolor": "#2a3f5f"
                                                },
                                                "type": "carpet"
                                            }
                                        ],
                                        "choropleth": [
                                            {
                                                "colorbar": {
                                                    "outlinewidth": 0,
                                                    "ticks": ""
                                                },
                                                "type": "choropleth"
                                            }
                                        ],
                                        "contour": [
                                            {
                                                "colorbar": {
                                                    "outlinewidth": 0,
                                                    "ticks": ""
                                                },
                                                "colorscale": [
                                                    [
                                                        0,
                                                        "#0d0887"
                                                    ],
                                                    [
                                                        0.1111111111111111,
                                                        "#46039f"
                                                    ],
                                                    [
                                                        0.2222222222222222,
                                                        "#7201a8"
                                                    ],
                                                    [
                                                        0.3333333333333333,
                                                        "#9c179e"
                                                    ],
                                                    [
                                                        0.4444444444444444,
                                                        "#bd3786"
                                                    ],
                                                    [
                                                        0.5555555555555556,
                                                        "#d8576b"
                                                    ],
                                                    [
                                                        0.6666666666666666,
                                                        "#ed7953"
                                                    ],
                                                    [
                                                        0.7777777777777778,
                                                        "#fb9f3a"
                                                    ],
                                                    [
                                                        0.8888888888888888,
                                                        "#fdca26"
                                                    ],
                                                    [
                                                        1,
                                                        "#f0f921"
                                                    ]
                                                ],
                                                "type": "contour"
                                            }
                                        ],
                                        "contourcarpet": [
                                            {
                                                "colorbar": {
                                                    "outlinewidth": 0,
                                                    "ticks": ""
                                                },
                                                "type": "contourcarpet"
                                            }
                                        ],
                                        "heatmap": [
                                            {
                                                "colorbar": {
                                                    "outlinewidth": 0,
                                                    "ticks": ""
                                                },
                                                "colorscale": [
                                                    [
                                                        0,
                                                        "#0d0887"
                                                    ],
                                                    [
                                                        0.1111111111111111,
                                                        "#46039f"
                                                    ],
                                                    [
                                                        0.2222222222222222,
                                                        "#7201a8"
                                                    ],
                                                    [
                                                        0.3333333333333333,
                                                        "#9c179e"
                                                    ],
                                                    [
                                                        0.4444444444444444,
                                                        "#bd3786"
                                                    ],
                                                    [
                                                        0.5555555555555556,
                                                        "#d8576b"
                                                    ],
                                                    [
                                                        0.6666666666666666,
                                                        "#ed7953"
                                                    ],
                                                    [
                                                        0.7777777777777778,
                                                        "#fb9f3a"
                                                    ],
                                                    [
                                                        0.8888888888888888,
                                                        "#fdca26"
                                                    ],
                                                    [
                                                        1,
                                                        "#f0f921"
                                                    ]
                                                ],
                                                "type": "heatmap"
                                            }
                                        ],
                                        "heatmapgl": [
                                            {
                                                "colorbar": {
                                                    "outlinewidth": 0,
                                                    "ticks": ""
                                                },
                                                "colorscale": [
                                                    [
                                                        0,
                                                        "#0d0887"
                                                    ],
                                                    [
                                                        0.1111111111111111,
                                                        "#46039f"
                                                    ],
                                                    [
                                                        0.2222222222222222,
                                                        "#7201a8"
                                                    ],
                                                    [
                                                        0.3333333333333333,
                                                        "#9c179e"
                                                    ],
                                                    [
                                                        0.4444444444444444,
                                                        "#bd3786"
                                                    ],
                                                    [
                                                        0.5555555555555556,
                                                        "#d8576b"
                                                    ],
                                                    [
                                                        0.6666666666666666,
                                                        "#ed7953"
                                                    ],
                                                    [
                                                        0.7777777777777778,
                                                        "#fb9f3a"
                                                    ],
                                                    [
                                                        0.8888888888888888,
                                                        "#fdca26"
                                                    ],
                                                    [
                                                        1,
                                                        "#f0f921"
                                                    ]
                                                ],
                                                "type": "heatmapgl"
                                            }
                                        ],
                                        "histogram": [
                                            {
                                                "marker": {
                                                    "pattern": {
                                                        "fillmode": "overlay",
                                                        "size": 10,
                                                        "solidity": 0.2
                                                    }
                                                },
                                                "type": "histogram"
                                            }
                                        ],
                                        "histogram2d": [
                                            {
                                                "colorbar": {
                                                    "outlinewidth": 0,
                                                    "ticks": ""
                                                },
                                                "colorscale": [
                                                    [
                                                        0,
                                                        "#0d0887"
                                                    ],
                                                    [
                                                        0.1111111111111111,
                                                        "#46039f"
                                                    ],
                                                    [
                                                        0.2222222222222222,
                                                        "#7201a8"
                                                    ],
                                                    [
                                                        0.3333333333333333,
                                                        "#9c179e"
                                                    ],
                                                    [
                                                        0.4444444444444444,
                                                        "#bd3786"
                                                    ],
                                                    [
                                                        0.5555555555555556,
                                                        "#d8576b"
                                                    ],
                                                    [
                                                        0.6666666666666666,
                                                        "#ed7953"
                                                    ],
                                                    [
                                                        0.7777777777777778,
                                                        "#fb9f3a"
                                                    ],
                                                    [
                                                        0.8888888888888888,
                                                        "#fdca26"
                                                    ],
                                                    [
                                                        1,
                                                        "#f0f921"
                                                    ]
                                                ],
                                                "type": "histogram2d"
                                            }
                                        ],
                                        "histogram2dcontour": [
                                            {
                                                "colorbar": {
                                                    "outlinewidth": 0,
                                                    "ticks": ""
                                                },
                                                "colorscale": [
                                                    [
                                                        0,
                                                        "#0d0887"
                                                    ],
                                                    [
                                                        0.1111111111111111,
                                                        "#46039f"
                                                    ],
                                                    [
                                                        0.2222222222222222,
                                                        "#7201a8"
                                                    ],
                                                    [
                                                        0.3333333333333333,
                                                        "#9c179e"
                                                    ],
                                                    [
                                                        0.4444444444444444,
                                                        "#bd3786"
                                                    ],
                                                    [
                                                        0.5555555555555556,
                                                        "#d8576b"
                                                    ],
                                                    [
                                                        0.6666666666666666,
                                                        "#ed7953"
                                                    ],
                                                    [
                                                        0.7777777777777778,
                                                        "#fb9f3a"
                                                    ],
                                                    [
                                                        0.8888888888888888,
                                                        "#fdca26"
                                                    ],
                                                    [
                                                        1,
                                                        "#f0f921"
                                                    ]
                                                ],
                                                "type": "histogram2dcontour"
                                            }
                                        ],
                                        "mesh3d": [
                                            {
                                                "colorbar": {
                                                    "outlinewidth": 0,
                                                    "ticks": ""
                                                },
                                                "type": "mesh3d"
                                            }
                                        ],
                                        "parcoords": [
                                            {
                                                "line": {
                                                    "colorbar": {
                                                        "outlinewidth": 0,
                                                        "ticks": ""
                                                    }
                                                },
                                                "type": "parcoords"
                                            }
                                        ],
                                        "pie": [
                                            {
                                                "automargin": true,
                                                "type": "pie"
                                            }
                                        ],
                                        "scatter": [
                                            {
                                                "marker": {
                                                    "colorbar": {
                                                        "outlinewidth": 0,
                                                        "ticks": ""
                                                    }
                                                },
                                                "type": "scatter"
                                            }
                                        ],
                                        "scatter3d": [
                                            {
                                                "line": {
                                                    "colorbar": {
                                                        "outlinewidth": 0,
                                                        "ticks": ""
                                                    }
                                                },
                                                "marker": {
                                                    "colorbar": {
                                                        "outlinewidth": 0,
                                                        "ticks": ""
                                                    }
                                                },
                                                "type": "scatter3d"
                                            }
                                        ],
                                        "scattercarpet": [
                                            {
                                                "marker": {
                                                    "colorbar": {
                                                        "outlinewidth": 0,
                                                        "ticks": ""
                                                    }
                                                },
                                                "type": "scattercarpet"
                                            }
                                        ],
                                        "scattergeo": [
                                            {
                                                "marker": {
                                                    "colorbar": {
                                                        "outlinewidth": 0,
                                                        "ticks": ""
                                                    }
                                                },
                                                "type": "scattergeo"
                                            }
                                        ],
                                        "scattergl": [
                                            {
                                                "marker": {
                                                    "colorbar": {
                                                        "outlinewidth": 0,
                                                        "ticks": ""
                                                    }
                                                },
                                                "type": "scattergl"
                                            }
                                        ],
                                        "scattermapbox": [
                                            {
                                                "marker": {
                                                    "colorbar": {
                                                        "outlinewidth": 0,
                                                        "ticks": ""
                                                    }
                                                },
                                                "type": "scattermapbox"
                                            }
                                        ],
                                        "scatterpolar": [
                                            {
                                                "marker": {
                                                    "colorbar": {
                                                        "outlinewidth": 0,
                                                        "ticks": ""
                                                    }
                                                },
                                                "type": "scatterpolar"
                                            }
                                        ],
                                        "scatterpolargl": [
                                            {
                                                "marker": {
                                                    "colorbar": {
                                                        "outlinewidth": 0,
                                                        "ticks": ""
                                                    }
                                                },
                                                "type": "scatterpolargl"
                                            }
                                        ],
                                        "scatterternary": [
                                            {
                                                "marker": {
                                                    "colorbar": {
                                                        "outlinewidth": 0,
                                                        "ticks": ""
                                                    }
                                                },
                                                "type": "scatterternary"
                                            }
                                        ],
                                        "surface": [
                                            {
                                                "colorbar": {
                                                    "outlinewidth": 0,
                                                    "ticks": ""
                                                },
                                                "colorscale": [
                                                    [
                                                        0,
                                                        "#0d0887"
                                                    ],
                                                    [
                                                        0.1111111111111111,
                                                        "#46039f"
                                                    ],
                                                    [
                                                        0.2222222222222222,
                                                        "#7201a8"
                                                    ],
                                                    [
                                                        0.3333333333333333,
                                                        "#9c179e"
                                                    ],
                                                    [
                                                        0.4444444444444444,
                                                        "#bd3786"
                                                    ],
                                                    [
                                                        0.5555555555555556,
                                                        "#d8576b"
                                                    ],
                                                    [
                                                        0.6666666666666666,
                                                        "#ed7953"
                                                    ],
                                                    [
                                                        0.7777777777777778,
                                                        "#fb9f3a"
                                                    ],
                                                    [
                                                        0.8888888888888888,
                                                        "#fdca26"
                                                    ],
                                                    [
                                                        1,
                                                        "#f0f921"
                                                    ]
                                                ],
                                                "type": "surface"
                                            }
                                        ],
                                        "table": [
                                            {
                                                "cells": {
                                                    "fill": {
                                                        "color": "#EBF0F8"
                                                    },
                                                    "line": {
                                                        "color": "white"
                                                    }
                                                },
                                                "header": {
                                                    "fill": {
                                                        "color": "#C8D4E3"
                                                    },
                                                    "line": {
                                                        "color": "white"
                                                    }
                                                },
                                                "type": "table"
                                            }
                                        ]
                                    },
                                    "layout": {
                                        "annotationdefaults": {
                                            "arrowcolor": "#2a3f5f",
                                            "arrowhead": 0,
                                            "arrowwidth": 1
                                        },
                                        "autotypenumbers": "strict",
                                        "coloraxis": {
                                            "colorbar": {
                                                "outlinewidth": 0,
                                                "ticks": ""
                                            }
                                        },
                                        "colorscale": {
                                            "diverging": [
                                                [
                                                    0,
                                                    "#8e0152"
                                                ],
                                                [
                                                    0.1,
                                                    "#c51b7d"
                                                ],
                                                [
                                                    0.2,
                                                    "#de77ae"
                                                ],
                                                [
                                                    0.3,
                                                    "#f1b6da"
                                                ],
                                                [
                                                    0.4,
                                                    "#fde0ef"
                                                ],
                                                [
                                                    0.5,
                                                    "#f7f7f7"
                                                ],
                                                [
                                                    0.6,
                                                    "#e6f5d0"
                                                ],
                                                [
                                                    0.7,
                                                    "#b8e186"
                                                ],
                                                [
                                                    0.8,
                                                    "#7fbc41"
                                                ],
                                                [
                                                    0.9,
                                                    "#4d9221"
                                                ],
                                                [
                                                    1,
                                                    "#276419"
                                                ]
                                            ],
                                            "sequential": [
                                                [
                                                    0,
                                                    "#0d0887"
                                                ],
                                                [
                                                    0.1111111111111111,
                                                    "#46039f"
                                                ],
                                                [
                                                    0.2222222222222222,
                                                    "#7201a8"
                                                ],
                                                [
                                                    0.3333333333333333,
                                                    "#9c179e"
                                                ],
                                                [
                                                    0.4444444444444444,
                                                    "#bd3786"
                                                ],
                                                [
                                                    0.5555555555555556,
                                                    "#d8576b"
                                                ],
                                                [
                                                    0.6666666666666666,
                                                    "#ed7953"
                                                ],
                                                [
                                                    0.7777777777777778,
                                                    "#fb9f3a"
                                                ],
                                                [
                                                    0.8888888888888888,
                                                    "#fdca26"
                                                ],
                                                [
                                                    1,
                                                    "#f0f921"
                                                ]
                                            ],
                                            "sequentialminus": [
                                                [
                                                    0,
                                                    "#0d0887"
                                                ],
                                                [
                                                    0.1111111111111111,
                                                    "#46039f"
                                                ],
                                                [
                                                    0.2222222222222222,
                                                    "#7201a8"
                                                ],
                                                [
                                                    0.3333333333333333,
                                                    "#9c179e"
                                                ],
                                                [
                                                    0.4444444444444444,
                                                    "#bd3786"
                                                ],
                                                [
                                                    0.5555555555555556,
                                                    "#d8576b"
                                                ],
                                                [
                                                    0.6666666666666666,
                                                    "#ed7953"
                                                ],
                                                [
                                                    0.7777777777777778,
                                                    "#fb9f3a"
                                                ],
                                                [
                                                    0.8888888888888888,
                                                    "#fdca26"
                                                ],
                                                [
                                                    1,
                                                    "#f0f921"
                                                ]
                                            ]
                                        },
                                        "colorway": [
                                            "#636efa",
                                            "#EF553B",
                                            "#00cc96",
                                            "#ab63fa",
                                            "#FFA15A",
                                            "#19d3f3",
                                            "#FF6692",
                                            "#B6E880",
                                            "#FF97FF",
                                            "#FECB52"
                                        ],
                                        "font": {
                                            "color": "#2a3f5f"
                                        },
                                        "geo": {
                                            "bgcolor": "white",
                                            "lakecolor": "white",
                                            "landcolor": "#E5ECF6",
                                            "showlakes": true,
                                            "showland": true,
                                            "subunitcolor": "white"
                                        },
                                        "hoverlabel": {
                                            "align": "left"
                                        },
                                        "hovermode": "closest",
                                        "mapbox": {
                                            "style": "light"
                                        },
                                        "paper_bgcolor": "white",
                                        "plot_bgcolor": "#E5ECF6",
                                        "polar": {
                                            "angularaxis": {
                                                "gridcolor": "white",
                                                "linecolor": "white",
                                                "ticks": ""
                                            },
                                            "bgcolor": "#E5ECF6",
                                            "radialaxis": {
                                                "gridcolor": "white",
                                                "linecolor": "white",
                                                "ticks": ""
                                            }
                                        },
                                        "scene": {
                                            "xaxis": {
                                                "backgroundcolor": "#E5ECF6",
                                                "gridcolor": "white",
                                                "gridwidth": 2,
                                                "linecolor": "white",
                                                "showbackground": true,
                                                "ticks": "",
                                                "zerolinecolor": "white"
                                            },
                                            "yaxis": {
                                                "backgroundcolor": "#E5ECF6",
                                                "gridcolor": "white",
                                                "gridwidth": 2,
                                                "linecolor": "white",
                                                "showbackground": true,
                                                "ticks": "",
                                                "zerolinecolor": "white"
                                            },
                                            "zaxis": {
                                                "backgroundcolor": "#E5ECF6",
                                                "gridcolor": "white",
                                                "gridwidth": 2,
                                                "linecolor": "white",
                                                "showbackground": true,
                                                "ticks": "",
                                                "zerolinecolor": "white"
                                            }
                                        },
                                        "shapedefaults": {
                                            "line": {
                                                "color": "#2a3f5f"
                                            }
                                        },
                                        "ternary": {
                                            "aaxis": {
                                                "gridcolor": "white",
                                                "linecolor": "white",
                                                "ticks": ""
                                            },
                                            "baxis": {
                                                "gridcolor": "white",
                                                "linecolor": "white",
                                                "ticks": ""
                                            },
                                            "bgcolor": "#E5ECF6",
                                            "caxis": {
                                                "gridcolor": "white",
                                                "linecolor": "white",
                                                "ticks": ""
                                            }
                                        },
                                        "title": {
                                            "x": 0.05
                                        },
                                        "xaxis": {
                                            "automargin": true,
                                            "gridcolor": "white",
                                            "linecolor": "white",
                                            "ticks": "",
                                            "title": {
                                                "standoff": 15
                                            },
                                            "zerolinecolor": "white",
                                            "zerolinewidth": 2
                                        },
                                        "yaxis": {
                                            "automargin": true,
                                            "gridcolor": "white",
                                            "linecolor": "white",
                                            "ticks": "",
                                            "title": {
                                                "standoff": 15
                                            },
                                            "zerolinecolor": "white",
                                            "zerolinewidth": 2
                                        }
                                    }
                                },
                                "title": {
                                    "text": "Daily Storm Events"
                                },
                                "xaxis": {
                                    "autorange": true,
                                    "title": {
                                        "text": "StartTime"
                                    },
                                    "type": "date"
                                },
                                "yaxis": {
                                    "ticksuffix": "",
                                    "title": {
                                        "text": "event_count"
                                    },
                                    "type": "linear"
                                }
                            }
                        },
                        "text/html": [
                            "<div>                            <div id=\"4f8cb649-5736-45bb-9cb1-8323d5645c6a\" class=\"plotly-graph-div\" style=\"height:525px; width:100%;\"></div>            <script type=\"text/javascript\">                require([\"plotly\"], function(Plotly) {                    window.PLOTLYENV=window.PLOTLYENV || {};                                    if (document.getElementById(\"4f8cb649-5736-45bb-9cb1-8323d5645c6a\")) {                    Plotly.newPlot(                        \"4f8cb649-5736-45bb-9cb1-8323d5645c6a\",                        [{\"line\":{\"color\":\"rgb(31, 118, 179)\",\"width\":1},\"name\":\"event_count\",\"opacity\":0.8,\"x\":[\"2007-01-01T00:00:00+00:00\",\"2007-01-02T00:00:00+00:00\",\"2007-01-03T00:00:00+00:00\",\"2007-01-04T00:00:00+00:00\",\"2007-01-05T00:00:00+00:00\",\"2007-01-06T00:00:00+00:00\",\"2007-01-07T00:00:00+00:00\",\"2007-01-08T00:00:00+00:00\",\"2007-01-09T00:00:00+00:00\",\"2007-01-10T00:00:00+00:00\",\"2007-01-11T00:00:00+00:00\",\"2007-01-12T00:00:00+00:00\",\"2007-01-13T00:00:00+00:00\",\"2007-01-14T00:00:00+00:00\",\"2007-01-15T00:00:00+00:00\",\"2007-01-16T00:00:00+00:00\",\"2007-01-17T00:00:00+00:00\",\"2007-01-18T00:00:00+00:00\",\"2007-01-19T00:00:00+00:00\",\"2007-01-20T00:00:00+00:00\",\"2007-01-21T00:00:00+00:00\",\"2007-01-22T00:00:00+00:00\",\"2007-01-23T00:00:00+00:00\",\"2007-01-24T00:00:00+00:00\",\"2007-01-25T00:00:00+00:00\",\"2007-01-26T00:00:00+00:00\",\"2007-01-27T00:00:00+00:00\",\"2007-01-28T00:00:00+00:00\",\"2007-01-29T00:00:00+00:00\",\"2007-01-30T00:00:00+00:00\",\"2007-01-31T00:00:00+00:00\",\"2007-02-01T00:00:00+00:00\",\"2007-02-02T00:00:00+00:00\",\"2007-02-03T00:00:00+00:00\",\"2007-02-04T00:00:00+00:00\",\"2007-02-05T00:00:00+00:00\",\"2007-02-06T00:00:00+00:00\",\"2007-02-07T00:00:00+00:00\",\"2007-02-08T00:00:00+00:00\",\"2007-02-09T00:00:00+00:00\",\"2007-02-10T00:00:00+00:00\",\"2007-02-11T00:00:00+00:00\",\"2007-02-12T00:00:00+00:00\",\"2007-02-13T00:00:00+00:00\",\"2007-02-14T00:00:00+00:00\",\"2007-02-15T00:00:00+00:00\",\"2007-02-16T00:00:00+00:00\",\"2007-02-17T00:00:00+00:00\",\"2007-02-18T00:00:00+00:00\",\"2007-02-19T00:00:00+00:00\",\"2007-02-20T00:00:00+00:00\",\"2007-02-21T00:00:00+00:00\",\"2007-02-22T00:00:00+00:00\",\"2007-02-23T00:00:00+00:00\",\"2007-02-24T00:00:00+00:00\",\"2007-02-25T00:00:00+00:00\",\"2007-02-26T00:00:00+00:00\",\"2007-02-27T00:00:00+00:00\",\"2007-02-28T00:00:00+00:00\",\"2007-03-01T00:00:00+00:00\",\"2007-03-02T00:00:00+00:00\",\"2007-03-03T00:00:00+00:00\",\"2007-03-04T00:00:00+00:00\",\"2007-03-05T00:00:00+00:00\",\"2007-03-06T00:00:00+00:00\",\"2007-03-07T00:00:00+00:00\",\"2007-03-08T00:00:00+00:00\",\"2007-03-09T00:00:00+00:00\",\"2007-03-10T00:00:00+00:00\",\"2007-03-11T00:00:00+00:00\",\"2007-03-12T00:00:00+00:00\",\"2007-03-13T00:00:00+00:00\",\"2007-03-14T00:00:00+00:00\",\"2007-03-15T00:00:00+00:00\",\"2007-03-16T00:00:00+00:00\",\"2007-03-17T00:00:00+00:00\",\"2007-03-18T00:00:00+00:00\",\"2007-03-19T00:00:00+00:00\",\"2007-03-20T00:00:00+00:00\",\"2007-03-21T00:00:00+00:00\",\"2007-03-22T00:00:00+00:00\",\"2007-03-23T00:00:00+00:00\",\"2007-03-24T00:00:00+00:00\",\"2007-03-25T00:00:00+00:00\",\"2007-03-26T00:00:00+00:00\",\"2007-03-27T00:00:00+00:00\",\"2007-03-28T00:00:00+00:00\",\"2007-03-29T00:00:00+00:00\",\"2007-03-30T00:00:00+00:00\",\"2007-03-31T00:00:00+00:00\",\"2007-04-01T00:00:00+00:00\",\"2007-04-02T00:00:00+00:00\",\"2007-04-03T00:00:00+00:00\",\"2007-04-04T00:00:00+00:00\",\"2007-04-05T00:00:00+00:00\",\"2007-04-06T00:00:00+00:00\",\"2007-04-07T00:00:00+00:00\",\"2007-04-08T00:00:00+00:00\",\"2007-04-09T00:00:00+00:00\",\"2007-04-10T00:00:00+00:00\",\"2007-04-11T00:00:00+00:00\",\"2007-04-12T00:00:00+00:00\",\"2007-04-13T00:00:00+00:00\",\"2007-04-14T00:00:00+00:00\",\"2007-04-15T00:00:00+00:00\",\"2007-04-16T00:00:00+00:00\",\"2007-04-17T00:00:00+00:00\",\"2007-04-18T00:00:00+00:00\",\"2007-04-19T00:00:00+00:00\",\"2007-04-20T00:00:00+00:00\",\"2007-04-21T00:00:00+00:00\",\"2007-04-22T00:00:00+00:00\",\"2007-04-23T00:00:00+00:00\",\"2007-04-24T00:00:00+00:00\",\"2007-04-25T00:00:00+00:00\",\"2007-04-26T00:00:00+00:00\",\"2007-04-27T00:00:00+00:00\",\"2007-04-28T00:00:00+00:00\",\"2007-04-29T00:00:00+00:00\",\"2007-04-30T00:00:00+00:00\",\"2007-05-01T00:00:00+00:00\",\"2007-05-02T00:00:00+00:00\",\"2007-05-03T00:00:00+00:00\",\"2007-05-04T00:00:00+00:00\",\"2007-05-05T00:00:00+00:00\",\"2007-05-06T00:00:00+00:00\",\"2007-05-07T00:00:00+00:00\",\"2007-05-08T00:00:00+00:00\",\"2007-05-09T00:00:00+00:00\",\"2007-05-10T00:00:00+00:00\",\"2007-05-11T00:00:00+00:00\",\"2007-05-12T00:00:00+00:00\",\"2007-05-13T00:00:00+00:00\",\"2007-05-14T00:00:00+00:00\",\"2007-05-15T00:00:00+00:00\",\"2007-05-16T00:00:00+00:00\",\"2007-05-17T00:00:00+00:00\",\"2007-05-18T00:00:00+00:00\",\"2007-05-19T00:00:00+00:00\",\"2007-05-20T00:00:00+00:00\",\"2007-05-21T00:00:00+00:00\",\"2007-05-22T00:00:00+00:00\",\"2007-05-23T00:00:00+00:00\",\"2007-05-24T00:00:00+00:00\",\"2007-05-25T00:00:00+00:00\",\"2007-05-26T00:00:00+00:00\",\"2007-05-27T00:00:00+00:00\",\"2007-05-28T00:00:00+00:00\",\"2007-05-29T00:00:00+00:00\",\"2007-05-30T00:00:00+00:00\",\"2007-05-31T00:00:00+00:00\",\"2007-06-01T00:00:00+00:00\",\"2007-06-02T00:00:00+00:00\",\"2007-06-03T00:00:00+00:00\",\"2007-06-04T00:00:00+00:00\",\"2007-06-05T00:00:00+00:00\",\"2007-06-06T00:00:00+00:00\",\"2007-06-07T00:00:00+00:00\",\"2007-06-08T00:00:00+00:00\",\"2007-06-09T00:00:00+00:00\",\"2007-06-10T00:00:00+00:00\",\"2007-06-11T00:00:00+00:00\",\"2007-06-12T00:00:00+00:00\",\"2007-06-13T00:00:00+00:00\",\"2007-06-14T00:00:00+00:00\",\"2007-06-15T00:00:00+00:00\",\"2007-06-16T00:00:00+00:00\",\"2007-06-17T00:00:00+00:00\",\"2007-06-18T00:00:00+00:00\",\"2007-06-19T00:00:00+00:00\",\"2007-06-20T00:00:00+00:00\",\"2007-06-21T00:00:00+00:00\",\"2007-06-22T00:00:00+00:00\",\"2007-06-23T00:00:00+00:00\",\"2007-06-24T00:00:00+00:00\",\"2007-06-25T00:00:00+00:00\",\"2007-06-26T00:00:00+00:00\",\"2007-06-27T00:00:00+00:00\",\"2007-06-28T00:00:00+00:00\",\"2007-06-29T00:00:00+00:00\",\"2007-06-30T00:00:00+00:00\",\"2007-07-01T00:00:00+00:00\",\"2007-07-02T00:00:00+00:00\",\"2007-07-03T00:00:00+00:00\",\"2007-07-04T00:00:00+00:00\",\"2007-07-05T00:00:00+00:00\",\"2007-07-06T00:00:00+00:00\",\"2007-07-07T00:00:00+00:00\",\"2007-07-08T00:00:00+00:00\",\"2007-07-09T00:00:00+00:00\",\"2007-07-10T00:00:00+00:00\",\"2007-07-11T00:00:00+00:00\",\"2007-07-12T00:00:00+00:00\",\"2007-07-13T00:00:00+00:00\",\"2007-07-14T00:00:00+00:00\",\"2007-07-15T00:00:00+00:00\",\"2007-07-16T00:00:00+00:00\",\"2007-07-17T00:00:00+00:00\",\"2007-07-18T00:00:00+00:00\",\"2007-07-19T00:00:00+00:00\",\"2007-07-20T00:00:00+00:00\",\"2007-07-21T00:00:00+00:00\",\"2007-07-22T00:00:00+00:00\",\"2007-07-23T00:00:00+00:00\",\"2007-07-24T00:00:00+00:00\",\"2007-07-25T00:00:00+00:00\",\"2007-07-26T00:00:00+00:00\",\"2007-07-27T00:00:00+00:00\",\"2007-07-28T00:00:00+00:00\",\"2007-07-29T00:00:00+00:00\",\"2007-07-30T00:00:00+00:00\",\"2007-07-31T00:00:00+00:00\",\"2007-08-01T00:00:00+00:00\",\"2007-08-02T00:00:00+00:00\",\"2007-08-03T00:00:00+00:00\",\"2007-08-04T00:00:00+00:00\",\"2007-08-05T00:00:00+00:00\",\"2007-08-06T00:00:00+00:00\",\"2007-08-07T00:00:00+00:00\",\"2007-08-08T00:00:00+00:00\",\"2007-08-09T00:00:00+00:00\",\"2007-08-10T00:00:00+00:00\",\"2007-08-11T00:00:00+00:00\",\"2007-08-12T00:00:00+00:00\",\"2007-08-13T00:00:00+00:00\",\"2007-08-14T00:00:00+00:00\",\"2007-08-15T00:00:00+00:00\",\"2007-08-16T00:00:00+00:00\",\"2007-08-17T00:00:00+00:00\",\"2007-08-18T00:00:00+00:00\",\"2007-08-19T00:00:00+00:00\",\"2007-08-20T00:00:00+00:00\",\"2007-08-21T00:00:00+00:00\",\"2007-08-22T00:00:00+00:00\",\"2007-08-23T00:00:00+00:00\",\"2007-08-24T00:00:00+00:00\",\"2007-08-25T00:00:00+00:00\",\"2007-08-26T00:00:00+00:00\",\"2007-08-27T00:00:00+00:00\",\"2007-08-28T00:00:00+00:00\",\"2007-08-29T00:00:00+00:00\",\"2007-08-30T00:00:00+00:00\",\"2007-08-31T00:00:00+00:00\",\"2007-09-01T00:00:00+00:00\",\"2007-09-02T00:00:00+00:00\",\"2007-09-03T00:00:00+00:00\",\"2007-09-04T00:00:00+00:00\",\"2007-09-05T00:00:00+00:00\",\"2007-09-06T00:00:00+00:00\",\"2007-09-07T00:00:00+00:00\",\"2007-09-08T00:00:00+00:00\",\"2007-09-09T00:00:00+00:00\",\"2007-09-10T00:00:00+00:00\",\"2007-09-11T00:00:00+00:00\",\"2007-09-12T00:00:00+00:00\",\"2007-09-13T00:00:00+00:00\",\"2007-09-14T00:00:00+00:00\",\"2007-09-15T00:00:00+00:00\",\"2007-09-16T00:00:00+00:00\",\"2007-09-17T00:00:00+00:00\",\"2007-09-18T00:00:00+00:00\",\"2007-09-19T00:00:00+00:00\",\"2007-09-20T00:00:00+00:00\",\"2007-09-21T00:00:00+00:00\",\"2007-09-22T00:00:00+00:00\",\"2007-09-23T00:00:00+00:00\",\"2007-09-24T00:00:00+00:00\",\"2007-09-25T00:00:00+00:00\",\"2007-09-26T00:00:00+00:00\",\"2007-09-27T00:00:00+00:00\",\"2007-09-28T00:00:00+00:00\",\"2007-09-29T00:00:00+00:00\",\"2007-09-30T00:00:00+00:00\",\"2007-10-01T00:00:00+00:00\",\"2007-10-02T00:00:00+00:00\",\"2007-10-03T00:00:00+00:00\",\"2007-10-04T00:00:00+00:00\",\"2007-10-05T00:00:00+00:00\",\"2007-10-06T00:00:00+00:00\",\"2007-10-07T00:00:00+00:00\",\"2007-10-08T00:00:00+00:00\",\"2007-10-09T00:00:00+00:00\",\"2007-10-10T00:00:00+00:00\",\"2007-10-11T00:00:00+00:00\",\"2007-10-12T00:00:00+00:00\",\"2007-10-13T00:00:00+00:00\",\"2007-10-14T00:00:00+00:00\",\"2007-10-15T00:00:00+00:00\",\"2007-10-16T00:00:00+00:00\",\"2007-10-17T00:00:00+00:00\",\"2007-10-18T00:00:00+00:00\",\"2007-10-19T00:00:00+00:00\",\"2007-10-20T00:00:00+00:00\",\"2007-10-21T00:00:00+00:00\",\"2007-10-22T00:00:00+00:00\",\"2007-10-23T00:00:00+00:00\",\"2007-10-24T00:00:00+00:00\",\"2007-10-25T00:00:00+00:00\",\"2007-10-26T00:00:00+00:00\",\"2007-10-27T00:00:00+00:00\",\"2007-10-28T00:00:00+00:00\",\"2007-10-29T00:00:00+00:00\",\"2007-10-30T00:00:00+00:00\",\"2007-10-31T00:00:00+00:00\",\"2007-11-01T00:00:00+00:00\",\"2007-11-02T00:00:00+00:00\",\"2007-11-03T00:00:00+00:00\",\"2007-11-04T00:00:00+00:00\",\"2007-11-05T00:00:00+00:00\",\"2007-11-06T00:00:00+00:00\",\"2007-11-07T00:00:00+00:00\",\"2007-11-08T00:00:00+00:00\",\"2007-11-09T00:00:00+00:00\",\"2007-11-10T00:00:00+00:00\",\"2007-11-11T00:00:00+00:00\",\"2007-11-12T00:00:00+00:00\",\"2007-11-13T00:00:00+00:00\",\"2007-11-14T00:00:00+00:00\",\"2007-11-15T00:00:00+00:00\",\"2007-11-16T00:00:00+00:00\",\"2007-11-17T00:00:00+00:00\",\"2007-11-18T00:00:00+00:00\",\"2007-11-19T00:00:00+00:00\",\"2007-11-20T00:00:00+00:00\",\"2007-11-21T00:00:00+00:00\",\"2007-11-22T00:00:00+00:00\",\"2007-11-23T00:00:00+00:00\",\"2007-11-24T00:00:00+00:00\",\"2007-11-25T00:00:00+00:00\",\"2007-11-26T00:00:00+00:00\",\"2007-11-27T00:00:00+00:00\",\"2007-11-28T00:00:00+00:00\",\"2007-11-29T00:00:00+00:00\",\"2007-11-30T00:00:00+00:00\",\"2007-12-01T00:00:00+00:00\",\"2007-12-02T00:00:00+00:00\",\"2007-12-03T00:00:00+00:00\",\"2007-12-04T00:00:00+00:00\",\"2007-12-05T00:00:00+00:00\",\"2007-12-06T00:00:00+00:00\",\"2007-12-07T00:00:00+00:00\",\"2007-12-08T00:00:00+00:00\",\"2007-12-09T00:00:00+00:00\",\"2007-12-10T00:00:00+00:00\",\"2007-12-11T00:00:00+00:00\",\"2007-12-12T00:00:00+00:00\",\"2007-12-13T00:00:00+00:00\",\"2007-12-14T00:00:00+00:00\",\"2007-12-15T00:00:00+00:00\",\"2007-12-16T00:00:00+00:00\",\"2007-12-17T00:00:00+00:00\",\"2007-12-18T00:00:00+00:00\",\"2007-12-19T00:00:00+00:00\",\"2007-12-20T00:00:00+00:00\",\"2007-12-21T00:00:00+00:00\",\"2007-12-22T00:00:00+00:00\",\"2007-12-23T00:00:00+00:00\",\"2007-12-24T00:00:00+00:00\",\"2007-12-25T00:00:00+00:00\",\"2007-12-26T00:00:00+00:00\",\"2007-12-27T00:00:00+00:00\",\"2007-12-28T00:00:00+00:00\",\"2007-12-29T00:00:00+00:00\",\"2007-12-30T00:00:00+00:00\",\"2007-12-31T00:00:00+00:00\"],\"y\":[200,66,45,85,152,51,69,66,62,52,58,358,174,262,194,93,39,93,136,386,226,26,22,12,95,51,24,80,44,45,78,372,182,179,69,117,217,89,6,4,6,32,250,638,200,66,164,103,22,52,60,40,121,154,1014,211,42,112,250,867,395,17,5,65,121,87,12,60,42,55,72,115,127,80,337,54,11,10,44,143,52,215,106,51,89,169,423,118,188,224,150,144,902,286,222,259,502,298,134,212,316,192,234,128,468,351,113,63,22,59,220,40,184,328,156,80,71,8,67,80,575,220,201,246,546,487,206,140,83,189,73,73,181,212,389,131,21,58,53,41,106,158,323,169,122,83,137,110,165,118,268,722,271,262,143,354,265,359,460,137,217,270,407,402,77,112,215,237,272,592,328,442,221,93,266,223,319,464,203,187,155,579,131,198,172,204,214,85,231,471,340,194,145,161,99,284,240,180,344,274,163,132,49,108,104,113,268,252,116,108,75,71,566,96,371,70,224,209,266,313,291,254,217,194,249,106,164,431,376,139,211,319,349,345,473,402,397,119,118,184,109,117,61,559,29,19,50,59,148,50,66,44,31,43,22,55,103,10,36,21,101,29,148,140,36,20,30,86,106,112,76,84,154,531,63,12,35,78,34,23,19,24,39,30,17,42,88,31,23,385,572,86,62,48,59,29,80,12,7,34,21,126,20,3,335,14,49,38,73,14,62,2,8,4,5,87,103,91,8,14,20,43,75,51,106,25,87,25,20,17,41,30,6,52,948,199,210,135,138,146,119,133,188,254,196,11,202,111,405,288,28,39,137,107,136,255,273,41,78,61,99,131,48,77,105],\"type\":\"scatter\"}],                        {\"showlegend\":true,\"template\":{\"data\":{\"barpolar\":[{\"marker\":{\"line\":{\"color\":\"#E5ECF6\",\"width\":0.5},\"pattern\":{\"fillmode\":\"overlay\",\"size\":10,\"solidity\":0.2}},\"type\":\"barpolar\"}],\"bar\":[{\"error_x\":{\"color\":\"#2a3f5f\"},\"error_y\":{\"color\":\"#2a3f5f\"},\"marker\":{\"line\":{\"color\":\"#E5ECF6\",\"width\":0.5},\"pattern\":{\"fillmode\":\"overlay\",\"size\":10,\"solidity\":0.2}},\"type\":\"bar\"}],\"carpet\":[{\"aaxis\":{\"endlinecolor\":\"#2a3f5f\",\"gridcolor\":\"white\",\"linecolor\":\"white\",\"minorgridcolor\":\"white\",\"startlinecolor\":\"#2a3f5f\"},\"baxis\":{\"endlinecolor\":\"#2a3f5f\",\"gridcolor\":\"white\",\"linecolor\":\"white\",\"minorgridcolor\":\"white\",\"startlinecolor\":\"#2a3f5f\"},\"type\":\"carpet\"}],\"choropleth\":[{\"colorbar\":{\"outlinewidth\":0,\"ticks\":\"\"},\"type\":\"choropleth\"}],\"contourcarpet\":[{\"colorbar\":{\"outlinewidth\":0,\"ticks\":\"\"},\"type\":\"contourcarpet\"}],\"contour\":[{\"colorbar\":{\"outlinewidth\":0,\"ticks\":\"\"},\"colorscale\":[[0.0,\"#0d0887\"],[0.1111111111111111,\"#46039f\"],[0.2222222222222222,\"#7201a8\"],[0.3333333333333333,\"#9c179e\"],[0.4444444444444444,\"#bd3786\"],[0.5555555555555556,\"#d8576b\"],[0.6666666666666666,\"#ed7953\"],[0.7777777777777778,\"#fb9f3a\"],[0.8888888888888888,\"#fdca26\"],[1.0,\"#f0f921\"]],\"type\":\"contour\"}],\"heatmapgl\":[{\"colorbar\":{\"outlinewidth\":0,\"ticks\":\"\"},\"colorscale\":[[0.0,\"#0d0887\"],[0.1111111111111111,\"#46039f\"],[0.2222222222222222,\"#7201a8\"],[0.3333333333333333,\"#9c179e\"],[0.4444444444444444,\"#bd3786\"],[0.5555555555555556,\"#d8576b\"],[0.6666666666666666,\"#ed7953\"],[0.7777777777777778,\"#fb9f3a\"],[0.8888888888888888,\"#fdca26\"],[1.0,\"#f0f921\"]],\"type\":\"heatmapgl\"}],\"heatmap\":[{\"colorbar\":{\"outlinewidth\":0,\"ticks\":\"\"},\"colorscale\":[[0.0,\"#0d0887\"],[0.1111111111111111,\"#46039f\"],[0.2222222222222222,\"#7201a8\"],[0.3333333333333333,\"#9c179e\"],[0.4444444444444444,\"#bd3786\"],[0.5555555555555556,\"#d8576b\"],[0.6666666666666666,\"#ed7953\"],[0.7777777777777778,\"#fb9f3a\"],[0.8888888888888888,\"#fdca26\"],[1.0,\"#f0f921\"]],\"type\":\"heatmap\"}],\"histogram2dcontour\":[{\"colorbar\":{\"outlinewidth\":0,\"ticks\":\"\"},\"colorscale\":[[0.0,\"#0d0887\"],[0.1111111111111111,\"#46039f\"],[0.2222222222222222,\"#7201a8\"],[0.3333333333333333,\"#9c179e\"],[0.4444444444444444,\"#bd3786\"],[0.5555555555555556,\"#d8576b\"],[0.6666666666666666,\"#ed7953\"],[0.7777777777777778,\"#fb9f3a\"],[0.8888888888888888,\"#fdca26\"],[1.0,\"#f0f921\"]],\"type\":\"histogram2dcontour\"}],\"histogram2d\":[{\"colorbar\":{\"outlinewidth\":0,\"ticks\":\"\"},\"colorscale\":[[0.0,\"#0d0887\"],[0.1111111111111111,\"#46039f\"],[0.2222222222222222,\"#7201a8\"],[0.3333333333333333,\"#9c179e\"],[0.4444444444444444,\"#bd3786\"],[0.5555555555555556,\"#d8576b\"],[0.6666666666666666,\"#ed7953\"],[0.7777777777777778,\"#fb9f3a\"],[0.8888888888888888,\"#fdca26\"],[1.0,\"#f0f921\"]],\"type\":\"histogram2d\"}],\"histogram\":[{\"marker\":{\"pattern\":{\"fillmode\":\"overlay\",\"size\":10,\"solidity\":0.2}},\"type\":\"histogram\"}],\"mesh3d\":[{\"colorbar\":{\"outlinewidth\":0,\"ticks\":\"\"},\"type\":\"mesh3d\"}],\"parcoords\":[{\"line\":{\"colorbar\":{\"outlinewidth\":0,\"ticks\":\"\"}},\"type\":\"parcoords\"}],\"pie\":[{\"automargin\":true,\"type\":\"pie\"}],\"scatter3d\":[{\"line\":{\"colorbar\":{\"outlinewidth\":0,\"ticks\":\"\"}},\"marker\":{\"colorbar\":{\"outlinewidth\":0,\"ticks\":\"\"}},\"type\":\"scatter3d\"}],\"scattercarpet\":[{\"marker\":{\"colorbar\":{\"outlinewidth\":0,\"ticks\":\"\"}},\"type\":\"scattercarpet\"}],\"scattergeo\":[{\"marker\":{\"colorbar\":{\"outlinewidth\":0,\"ticks\":\"\"}},\"type\":\"scattergeo\"}],\"scattergl\":[{\"marker\":{\"colorbar\":{\"outlinewidth\":0,\"ticks\":\"\"}},\"type\":\"scattergl\"}],\"scattermapbox\":[{\"marker\":{\"colorbar\":{\"outlinewidth\":0,\"ticks\":\"\"}},\"type\":\"scattermapbox\"}],\"scatterpolargl\":[{\"marker\":{\"colorbar\":{\"outlinewidth\":0,\"ticks\":\"\"}},\"type\":\"scatterpolargl\"}],\"scatterpolar\":[{\"marker\":{\"colorbar\":{\"outlinewidth\":0,\"ticks\":\"\"}},\"type\":\"scatterpolar\"}],\"scatter\":[{\"marker\":{\"colorbar\":{\"outlinewidth\":0,\"ticks\":\"\"}},\"type\":\"scatter\"}],\"scatterternary\":[{\"marker\":{\"colorbar\":{\"outlinewidth\":0,\"ticks\":\"\"}},\"type\":\"scatterternary\"}],\"surface\":[{\"colorbar\":{\"outlinewidth\":0,\"ticks\":\"\"},\"colorscale\":[[0.0,\"#0d0887\"],[0.1111111111111111,\"#46039f\"],[0.2222222222222222,\"#7201a8\"],[0.3333333333333333,\"#9c179e\"],[0.4444444444444444,\"#bd3786\"],[0.5555555555555556,\"#d8576b\"],[0.6666666666666666,\"#ed7953\"],[0.7777777777777778,\"#fb9f3a\"],[0.8888888888888888,\"#fdca26\"],[1.0,\"#f0f921\"]],\"type\":\"surface\"}],\"table\":[{\"cells\":{\"fill\":{\"color\":\"#EBF0F8\"},\"line\":{\"color\":\"white\"}},\"header\":{\"fill\":{\"color\":\"#C8D4E3\"},\"line\":{\"color\":\"white\"}},\"type\":\"table\"}]},\"layout\":{\"annotationdefaults\":{\"arrowcolor\":\"#2a3f5f\",\"arrowhead\":0,\"arrowwidth\":1},\"autotypenumbers\":\"strict\",\"coloraxis\":{\"colorbar\":{\"outlinewidth\":0,\"ticks\":\"\"}},\"colorscale\":{\"diverging\":[[0,\"#8e0152\"],[0.1,\"#c51b7d\"],[0.2,\"#de77ae\"],[0.3,\"#f1b6da\"],[0.4,\"#fde0ef\"],[0.5,\"#f7f7f7\"],[0.6,\"#e6f5d0\"],[0.7,\"#b8e186\"],[0.8,\"#7fbc41\"],[0.9,\"#4d9221\"],[1,\"#276419\"]],\"sequential\":[[0.0,\"#0d0887\"],[0.1111111111111111,\"#46039f\"],[0.2222222222222222,\"#7201a8\"],[0.3333333333333333,\"#9c179e\"],[0.4444444444444444,\"#bd3786\"],[0.5555555555555556,\"#d8576b\"],[0.6666666666666666,\"#ed7953\"],[0.7777777777777778,\"#fb9f3a\"],[0.8888888888888888,\"#fdca26\"],[1.0,\"#f0f921\"]],\"sequentialminus\":[[0.0,\"#0d0887\"],[0.1111111111111111,\"#46039f\"],[0.2222222222222222,\"#7201a8\"],[0.3333333333333333,\"#9c179e\"],[0.4444444444444444,\"#bd3786\"],[0.5555555555555556,\"#d8576b\"],[0.6666666666666666,\"#ed7953\"],[0.7777777777777778,\"#fb9f3a\"],[0.8888888888888888,\"#fdca26\"],[1.0,\"#f0f921\"]]},\"colorway\":[\"#636efa\",\"#EF553B\",\"#00cc96\",\"#ab63fa\",\"#FFA15A\",\"#19d3f3\",\"#FF6692\",\"#B6E880\",\"#FF97FF\",\"#FECB52\"],\"font\":{\"color\":\"#2a3f5f\"},\"geo\":{\"bgcolor\":\"white\",\"lakecolor\":\"white\",\"landcolor\":\"#E5ECF6\",\"showlakes\":true,\"showland\":true,\"subunitcolor\":\"white\"},\"hoverlabel\":{\"align\":\"left\"},\"hovermode\":\"closest\",\"mapbox\":{\"style\":\"light\"},\"paper_bgcolor\":\"white\",\"plot_bgcolor\":\"#E5ECF6\",\"polar\":{\"angularaxis\":{\"gridcolor\":\"white\",\"linecolor\":\"white\",\"ticks\":\"\"},\"bgcolor\":\"#E5ECF6\",\"radialaxis\":{\"gridcolor\":\"white\",\"linecolor\":\"white\",\"ticks\":\"\"}},\"scene\":{\"xaxis\":{\"backgroundcolor\":\"#E5ECF6\",\"gridcolor\":\"white\",\"gridwidth\":2,\"linecolor\":\"white\",\"showbackground\":true,\"ticks\":\"\",\"zerolinecolor\":\"white\"},\"yaxis\":{\"backgroundcolor\":\"#E5ECF6\",\"gridcolor\":\"white\",\"gridwidth\":2,\"linecolor\":\"white\",\"showbackground\":true,\"ticks\":\"\",\"zerolinecolor\":\"white\"},\"zaxis\":{\"backgroundcolor\":\"#E5ECF6\",\"gridcolor\":\"white\",\"gridwidth\":2,\"linecolor\":\"white\",\"showbackground\":true,\"ticks\":\"\",\"zerolinecolor\":\"white\"}},\"shapedefaults\":{\"line\":{\"color\":\"#2a3f5f\"}},\"ternary\":{\"aaxis\":{\"gridcolor\":\"white\",\"linecolor\":\"white\",\"ticks\":\"\"},\"baxis\":{\"gridcolor\":\"white\",\"linecolor\":\"white\",\"ticks\":\"\"},\"bgcolor\":\"#E5ECF6\",\"caxis\":{\"gridcolor\":\"white\",\"linecolor\":\"white\",\"ticks\":\"\"}},\"title\":{\"x\":0.05},\"xaxis\":{\"automargin\":true,\"gridcolor\":\"white\",\"linecolor\":\"white\",\"ticks\":\"\",\"title\":{\"standoff\":15},\"zerolinecolor\":\"white\",\"zerolinewidth\":2},\"yaxis\":{\"automargin\":true,\"gridcolor\":\"white\",\"linecolor\":\"white\",\"ticks\":\"\",\"title\":{\"standoff\":15},\"zerolinecolor\":\"white\",\"zerolinewidth\":2}}},\"title\":{\"text\":\"Daily Storm Events\"},\"xaxis\":{\"autorange\":true,\"title\":{\"text\":\"StartTime\"},\"type\":\"date\"},\"yaxis\":{\"ticksuffix\":\"\",\"title\":{\"text\":\"event_count\"},\"type\":\"linear\"}},                        {\"responsive\": true}                    ).then(function(){\n",
                            "                            \n",
                            "var gd = document.getElementById('4f8cb649-5736-45bb-9cb1-8323d5645c6a');\n",
                            "var x = new MutationObserver(function (mutations, observer) {{\n",
                            "        var display = window.getComputedStyle(gd).display;\n",
                            "        if (!display || display === 'none') {{\n",
                            "            console.log([gd, 'removed!']);\n",
                            "            Plotly.purge(gd);\n",
                            "            observer.disconnect();\n",
                            "        }}\n",
                            "}});\n",
                            "\n",
                            "// Listen for the removal of the full notebook cells\n",
                            "var notebookContainer = gd.closest('#notebook-container');\n",
                            "if (notebookContainer) {{\n",
                            "    x.observe(notebookContainer, {childList: true});\n",
                            "}}\n",
                            "\n",
                            "// Listen for the clearing of the current output cell\n",
                            "var outputEl = gd.closest('.output');\n",
                            "if (outputEl) {{\n",
                            "    x.observe(outputEl, {childList: true});\n",
                            "}}\n",
                            "\n",
                            "                        })                };                });            </script>        </div>"
                        ]
                    },
                    "metadata": {},
                    "output_type": "display_data"
                },
                {
                    "data": {
                        "text/html": [
                            "<html>\n",
                            "        <head>\n",
                            "            \n",
                            "            \n",
                            "        </head>\n",
                            "        <body>\n",
                            "            <div><p style=' padding: 10px; color: #3a87ad; background-color: #d9edf7; border-color: #bce9f1'>Done&nbsp;(00:00.219):&nbsp;365&nbsp;records</p></div>\n",
                            "        </body>\n",
                            "        </html>"
                        ],
                        "text/plain": [
                            "<IPython.core.display.HTML object>"
                        ]
                    },
                    "metadata": {},
                    "output_type": "display_data"
                },
                {
                    "data": {
                        "text/html": [],
                        "text/plain": [
                            "[{'StartTime': datetime.datetime(2007, 9, 29, 0, 0, tzinfo=tzutc()), 'event_count': 84},\n",
                            " {'StartTime': datetime.datetime(2007, 9, 18, 0, 0, tzinfo=tzutc()), 'event_count': 101},\n",
                            " {'StartTime': datetime.datetime(2007, 9, 20, 0, 0, tzinfo=tzutc()), 'event_count': 148},\n",
                            " {'StartTime': datetime.datetime(2007, 12, 30, 0, 0, tzinfo=tzutc()), 'event_count': 77},\n",
                            " {'StartTime': datetime.datetime(2007, 12, 20, 0, 0, tzinfo=tzutc()), 'event_count': 107},\n",
                            " {'StartTime': datetime.datetime(2007, 12, 28, 0, 0, tzinfo=tzutc()), 'event_count': 131},\n",
                            " {'StartTime': datetime.datetime(2007, 12, 7, 0, 0, tzinfo=tzutc()), 'event_count': 119},\n",
                            " {'StartTime': datetime.datetime(2007, 12, 13, 0, 0, tzinfo=tzutc()), 'event_count': 202},\n",
                            " {'StartTime': datetime.datetime(2007, 12, 23, 0, 0, tzinfo=tzutc()), 'event_count': 273},\n",
                            " {'StartTime': datetime.datetime(2007, 12, 11, 0, 0, tzinfo=tzutc()), 'event_count': 196},\n",
                            " {'StartTime': datetime.datetime(2007, 12, 10, 0, 0, tzinfo=tzutc()), 'event_count': 254},\n",
                            " {'StartTime': datetime.datetime(2007, 12, 15, 0, 0, tzinfo=tzutc()), 'event_count': 405},\n",
                            " {'StartTime': datetime.datetime(2007, 12, 16, 0, 0, tzinfo=tzutc()), 'event_count': 288},\n",
                            " {'StartTime': datetime.datetime(2007, 12, 1, 0, 0, tzinfo=tzutc()), 'event_count': 948},\n",
                            " {'StartTime': datetime.datetime(2007, 12, 9, 0, 0, tzinfo=tzutc()), 'event_count': 188},\n",
                            " {'StartTime': datetime.datetime(2007, 12, 14, 0, 0, tzinfo=tzutc()), 'event_count': 111},\n",
                            " {'StartTime': datetime.datetime(2007, 12, 8, 0, 0, tzinfo=tzutc()), 'event_count': 133},\n",
                            " {'StartTime': datetime.datetime(2007, 12, 27, 0, 0, tzinfo=tzutc()), 'event_count': 99},\n",
                            " {'StartTime': datetime.datetime(2007, 11, 4, 0, 0, tzinfo=tzutc()), 'event_count': 38},\n",
                            " {'StartTime': datetime.datetime(2007, 8, 24, 0, 0, tzinfo=tzutc()), 'event_count': 402},\n",
                            " {'StartTime': datetime.datetime(2007, 8, 3, 0, 0, tzinfo=tzutc()), 'event_count': 371},\n",
                            " {'StartTime': datetime.datetime(2007, 8, 20, 0, 0, tzinfo=tzutc()), 'event_count': 319},\n",
                            " {'StartTime': datetime.datetime(2007, 1, 15, 0, 0, tzinfo=tzutc()), 'event_count': 194},\n",
                            " {'StartTime': datetime.datetime(2007, 11, 5, 0, 0, tzinfo=tzutc()), 'event_count': 73},\n",
                            " {'StartTime': datetime.datetime(2007, 11, 21, 0, 0, tzinfo=tzutc()), 'event_count': 106},\n",
                            " {'StartTime': datetime.datetime(2007, 8, 16, 0, 0, tzinfo=tzutc()), 'event_count': 431},\n",
                            " {'StartTime': datetime.datetime(2007, 8, 25, 0, 0, tzinfo=tzutc()), 'event_count': 397},\n",
                            " {'StartTime': datetime.datetime(2007, 8, 9, 0, 0, tzinfo=tzutc()), 'event_count': 291},\n",
                            " {'StartTime': datetime.datetime(2007, 12, 21, 0, 0, tzinfo=tzutc()), 'event_count': 136},\n",
                            " {'StartTime': datetime.datetime(2007, 8, 6, 0, 0, tzinfo=tzutc()), 'event_count': 209},\n",
                            " {'StartTime': datetime.datetime(2007, 8, 30, 0, 0, tzinfo=tzutc()), 'event_count': 117},\n",
                            " {'StartTime': datetime.datetime(2007, 8, 17, 0, 0, tzinfo=tzutc()), 'event_count': 376},\n",
                            " {'StartTime': datetime.datetime(2007, 8, 4, 0, 0, tzinfo=tzutc()), 'event_count': 70},\n",
                            " {'StartTime': datetime.datetime(2007, 8, 7, 0, 0, tzinfo=tzutc()), 'event_count': 266},\n",
                            " {'StartTime': datetime.datetime(2007, 12, 26, 0, 0, tzinfo=tzutc()), 'event_count': 61},\n",
                            " {'StartTime': datetime.datetime(2007, 11, 14, 0, 0, tzinfo=tzutc()), 'event_count': 91},\n",
                            " {'StartTime': datetime.datetime(2007, 12, 31, 0, 0, tzinfo=tzutc()), 'event_count': 105},\n",
                            " {'StartTime': datetime.datetime(2007, 12, 17, 0, 0, tzinfo=tzutc()), 'event_count': 28},\n",
                            " {'StartTime': datetime.datetime(2007, 8, 19, 0, 0, tzinfo=tzutc()), 'event_count': 211},\n",
                            " {'StartTime': datetime.datetime(2007, 8, 21, 0, 0, tzinfo=tzutc()), 'event_count': 349},\n",
                            " {'StartTime': datetime.datetime(2007, 8, 13, 0, 0, tzinfo=tzutc()), 'event_count': 249},\n",
                            " {'StartTime': datetime.datetime(2007, 2, 24, 0, 0, tzinfo=tzutc()), 'event_count': 1014},\n",
                            " {'StartTime': datetime.datetime(2007, 11, 28, 0, 0, tzinfo=tzutc()), 'event_count': 30},\n",
                            " {'StartTime': datetime.datetime(2007, 8, 14, 0, 0, tzinfo=tzutc()), 'event_count': 106},\n",
                            " {'StartTime': datetime.datetime(2007, 12, 29, 0, 0, tzinfo=tzutc()), 'event_count': 48},\n",
                            " {'StartTime': datetime.datetime(2007, 1, 17, 0, 0, tzinfo=tzutc()), 'event_count': 39},\n",
                            " {'StartTime': datetime.datetime(2007, 1, 7, 0, 0, tzinfo=tzutc()), 'event_count': 69},\n",
                            " {'StartTime': datetime.datetime(2007, 8, 29, 0, 0, tzinfo=tzutc()), 'event_count': 109},\n",
                            " {'StartTime': datetime.datetime(2007, 8, 23, 0, 0, tzinfo=tzutc()), 'event_count': 473},\n",
                            " {'StartTime': datetime.datetime(2007, 8, 8, 0, 0, tzinfo=tzutc()), 'event_count': 313},\n",
                            " {'StartTime': datetime.datetime(2007, 8, 22, 0, 0, tzinfo=tzutc()), 'event_count': 345},\n",
                            " {'StartTime': datetime.datetime(2007, 11, 7, 0, 0, tzinfo=tzutc()), 'event_count': 62},\n",
                            " {'StartTime': datetime.datetime(2007, 11, 27, 0, 0, tzinfo=tzutc()), 'event_count': 41},\n",
                            " {'StartTime': datetime.datetime(2007, 8, 10, 0, 0, tzinfo=tzutc()), 'event_count': 254},\n",
                            " {'StartTime': datetime.datetime(2007, 8, 28, 0, 0, tzinfo=tzutc()), 'event_count': 184},\n",
                            " {'StartTime': datetime.datetime(2007, 8, 15, 0, 0, tzinfo=tzutc()), 'event_count': 164},\n",
                            " {'StartTime': datetime.datetime(2007, 12, 5, 0, 0, tzinfo=tzutc()), 'event_count': 138},\n",
                            " {'StartTime': datetime.datetime(2007, 8, 12, 0, 0, tzinfo=tzutc()), 'event_count': 194},\n",
                            " {'StartTime': datetime.datetime(2007, 8, 26, 0, 0, tzinfo=tzutc()), 'event_count': 119},\n",
                            " {'StartTime': datetime.datetime(2007, 12, 19, 0, 0, tzinfo=tzutc()), 'event_count': 137},\n",
                            " {'StartTime': datetime.datetime(2007, 1, 13, 0, 0, tzinfo=tzutc()), 'event_count': 174},\n",
                            " {'StartTime': datetime.datetime(2007, 12, 2, 0, 0, tzinfo=tzutc()), 'event_count': 199},\n",
                            " {'StartTime': datetime.datetime(2007, 12, 22, 0, 0, tzinfo=tzutc()), 'event_count': 255},\n",
                            " {'StartTime': datetime.datetime(2007, 11, 30, 0, 0, tzinfo=tzutc()), 'event_count': 52},\n",
                            " {'StartTime': datetime.datetime(2007, 8, 1, 0, 0, tzinfo=tzutc()), 'event_count': 566},\n",
                            " {'StartTime': datetime.datetime(2007, 2, 20, 0, 0, tzinfo=tzutc()), 'event_count': 60},\n",
                            " {'StartTime': datetime.datetime(2007, 2, 13, 0, 0, tzinfo=tzutc()), 'event_count': 638},\n",
                            " {'StartTime': datetime.datetime(2007, 8, 11, 0, 0, tzinfo=tzutc()), 'event_count': 217},\n",
                            " {'StartTime': datetime.datetime(2007, 2, 26, 0, 0, tzinfo=tzutc()), 'event_count': 42},\n",
                            " {'StartTime': datetime.datetime(2007, 1, 8, 0, 0, tzinfo=tzutc()), 'event_count': 66},\n",
                            " {'StartTime': datetime.datetime(2007, 2, 23, 0, 0, tzinfo=tzutc()), 'event_count': 154},\n",
                            " {'StartTime': datetime.datetime(2007, 3, 16, 0, 0, tzinfo=tzutc()), 'event_count': 337},\n",
                            " {'StartTime': datetime.datetime(2007, 2, 2, 0, 0, tzinfo=tzutc()), 'event_count': 182},\n",
                            " {'StartTime': datetime.datetime(2007, 2, 25, 0, 0, tzinfo=tzutc()), 'event_count': 211},\n",
                            " {'StartTime': datetime.datetime(2007, 8, 2, 0, 0, tzinfo=tzutc()), 'event_count': 96},\n",
                            " {'StartTime': datetime.datetime(2007, 8, 5, 0, 0, tzinfo=tzutc()), 'event_count': 224},\n",
                            " {'StartTime': datetime.datetime(2007, 8, 27, 0, 0, tzinfo=tzutc()), 'event_count': 118},\n",
                            " {'StartTime': datetime.datetime(2007, 2, 1, 0, 0, tzinfo=tzutc()), 'event_count': 372},\n",
                            " {'StartTime': datetime.datetime(2007, 2, 28, 0, 0, tzinfo=tzutc()), 'event_count': 250},\n",
                            " {'StartTime': datetime.datetime(2007, 2, 10, 0, 0, tzinfo=tzutc()), 'event_count': 6},\n",
                            " {'StartTime': datetime.datetime(2007, 1, 1, 0, 0, tzinfo=tzutc()), 'event_count': 200},\n",
                            " {'StartTime': datetime.datetime(2007, 2, 21, 0, 0, tzinfo=tzutc()), 'event_count': 40},\n",
                            " {'StartTime': datetime.datetime(2007, 1, 2, 0, 0, tzinfo=tzutc()), 'event_count': 66},\n",
                            " {'StartTime': datetime.datetime(2007, 1, 4, 0, 0, tzinfo=tzutc()), 'event_count': 85},\n",
                            " {'StartTime': datetime.datetime(2007, 1, 14, 0, 0, tzinfo=tzutc()), 'event_count': 262},\n",
                            " {'StartTime': datetime.datetime(2007, 1, 5, 0, 0, tzinfo=tzutc()), 'event_count': 152},\n",
                            " {'StartTime': datetime.datetime(2007, 1, 9, 0, 0, tzinfo=tzutc()), 'event_count': 62},\n",
                            " {'StartTime': datetime.datetime(2007, 1, 25, 0, 0, tzinfo=tzutc()), 'event_count': 95},\n",
                            " {'StartTime': datetime.datetime(2007, 6, 19, 0, 0, tzinfo=tzutc()), 'event_count': 592},\n",
                            " {'StartTime': datetime.datetime(2007, 6, 13, 0, 0, tzinfo=tzutc()), 'event_count': 402},\n",
                            " {'StartTime': datetime.datetime(2007, 6, 8, 0, 0, tzinfo=tzutc()), 'event_count': 460},\n",
                            " {'StartTime': datetime.datetime(2007, 2, 19, 0, 0, tzinfo=tzutc()), 'event_count': 52},\n",
                            " {'StartTime': datetime.datetime(2007, 1, 21, 0, 0, tzinfo=tzutc()), 'event_count': 226},\n",
                            " {'StartTime': datetime.datetime(2007, 1, 16, 0, 0, tzinfo=tzutc()), 'event_count': 93},\n",
                            " {'StartTime': datetime.datetime(2007, 2, 27, 0, 0, tzinfo=tzutc()), 'event_count': 112},\n",
                            " {'StartTime': datetime.datetime(2007, 1, 12, 0, 0, tzinfo=tzutc()), 'event_count': 358},\n",
                            " {'StartTime': datetime.datetime(2007, 2, 22, 0, 0, tzinfo=tzutc()), 'event_count': 121},\n",
                            " {'StartTime': datetime.datetime(2007, 1, 28, 0, 0, tzinfo=tzutc()), 'event_count': 80},\n",
                            " {'StartTime': datetime.datetime(2007, 1, 6, 0, 0, tzinfo=tzutc()), 'event_count': 51},\n",
                            " {'StartTime': datetime.datetime(2007, 3, 1, 0, 0, tzinfo=tzutc()), 'event_count': 867},\n",
                            " {'StartTime': datetime.datetime(2007, 6, 21, 0, 0, tzinfo=tzutc()), 'event_count': 442},\n",
                            " {'StartTime': datetime.datetime(2007, 6, 22, 0, 0, tzinfo=tzutc()), 'event_count': 221},\n",
                            " {'StartTime': datetime.datetime(2007, 6, 11, 0, 0, tzinfo=tzutc()), 'event_count': 270},\n",
                            " {'StartTime': datetime.datetime(2007, 1, 11, 0, 0, tzinfo=tzutc()), 'event_count': 58},\n",
                            " {'StartTime': datetime.datetime(2007, 2, 12, 0, 0, tzinfo=tzutc()), 'event_count': 250},\n",
                            " {'StartTime': datetime.datetime(2007, 1, 3, 0, 0, tzinfo=tzutc()), 'event_count': 45},\n",
                            " {'StartTime': datetime.datetime(2007, 6, 25, 0, 0, tzinfo=tzutc()), 'event_count': 223},\n",
                            " {'StartTime': datetime.datetime(2007, 6, 7, 0, 0, tzinfo=tzutc()), 'event_count': 359},\n",
                            " {'StartTime': datetime.datetime(2007, 6, 27, 0, 0, tzinfo=tzutc()), 'event_count': 464},\n",
                            " {'StartTime': datetime.datetime(2007, 6, 12, 0, 0, tzinfo=tzutc()), 'event_count': 407},\n",
                            " {'StartTime': datetime.datetime(2007, 6, 24, 0, 0, tzinfo=tzutc()), 'event_count': 266},\n",
                            " {'StartTime': datetime.datetime(2007, 6, 1, 0, 0, tzinfo=tzutc()), 'event_count': 722},\n",
                            " {'StartTime': datetime.datetime(2007, 6, 26, 0, 0, tzinfo=tzutc()), 'event_count': 319},\n",
                            " {'StartTime': datetime.datetime(2007, 6, 2, 0, 0, tzinfo=tzutc()), 'event_count': 271},\n",
                            " {'StartTime': datetime.datetime(2007, 6, 16, 0, 0, tzinfo=tzutc()), 'event_count': 215},\n",
                            " {'StartTime': datetime.datetime(2007, 6, 5, 0, 0, tzinfo=tzutc()), 'event_count': 354},\n",
                            " {'StartTime': datetime.datetime(2007, 6, 3, 0, 0, tzinfo=tzutc()), 'event_count': 262},\n",
                            " {'StartTime': datetime.datetime(2007, 8, 31, 0, 0, tzinfo=tzutc()), 'event_count': 61},\n",
                            " {'StartTime': datetime.datetime(2007, 6, 28, 0, 0, tzinfo=tzutc()), 'event_count': 203},\n",
                            " {'StartTime': datetime.datetime(2007, 6, 10, 0, 0, tzinfo=tzutc()), 'event_count': 217},\n",
                            " {'StartTime': datetime.datetime(2007, 6, 18, 0, 0, tzinfo=tzutc()), 'event_count': 272},\n",
                            " {'StartTime': datetime.datetime(2007, 8, 18, 0, 0, tzinfo=tzutc()), 'event_count': 139},\n",
                            " {'StartTime': datetime.datetime(2007, 6, 17, 0, 0, tzinfo=tzutc()), 'event_count': 237},\n",
                            " {'StartTime': datetime.datetime(2007, 6, 15, 0, 0, tzinfo=tzutc()), 'event_count': 112},\n",
                            " {'StartTime': datetime.datetime(2007, 6, 4, 0, 0, tzinfo=tzutc()), 'event_count': 143},\n",
                            " {'StartTime': datetime.datetime(2007, 6, 14, 0, 0, tzinfo=tzutc()), 'event_count': 77},\n",
                            " {'StartTime': datetime.datetime(2007, 6, 30, 0, 0, tzinfo=tzutc()), 'event_count': 155},\n",
                            " {'StartTime': datetime.datetime(2007, 6, 9, 0, 0, tzinfo=tzutc()), 'event_count': 137},\n",
                            " {'StartTime': datetime.datetime(2007, 6, 20, 0, 0, tzinfo=tzutc()), 'event_count': 328},\n",
                            " {'StartTime': datetime.datetime(2007, 6, 29, 0, 0, tzinfo=tzutc()), 'event_count': 187},\n",
                            " {'StartTime': datetime.datetime(2007, 6, 6, 0, 0, tzinfo=tzutc()), 'event_count': 265},\n",
                            " {'StartTime': datetime.datetime(2007, 2, 11, 0, 0, tzinfo=tzutc()), 'event_count': 32},\n",
                            " {'StartTime': datetime.datetime(2007, 3, 2, 0, 0, tzinfo=tzutc()), 'event_count': 395},\n",
                            " {'StartTime': datetime.datetime(2007, 3, 14, 0, 0, tzinfo=tzutc()), 'event_count': 127},\n",
                            " {'StartTime': datetime.datetime(2007, 3, 15, 0, 0, tzinfo=tzutc()), 'event_count': 80},\n",
                            " {'StartTime': datetime.datetime(2007, 3, 11, 0, 0, tzinfo=tzutc()), 'event_count': 55},\n",
                            " {'StartTime': datetime.datetime(2007, 3, 13, 0, 0, tzinfo=tzutc()), 'event_count': 115},\n",
                            " {'StartTime': datetime.datetime(2007, 3, 31, 0, 0, tzinfo=tzutc()), 'event_count': 224},\n",
                            " {'StartTime': datetime.datetime(2007, 6, 23, 0, 0, tzinfo=tzutc()), 'event_count': 93},\n",
                            " {'StartTime': datetime.datetime(2007, 3, 21, 0, 0, tzinfo=tzutc()), 'event_count': 143},\n",
                            " {'StartTime': datetime.datetime(2007, 3, 22, 0, 0, tzinfo=tzutc()), 'event_count': 52},\n",
                            " {'StartTime': datetime.datetime(2007, 2, 5, 0, 0, tzinfo=tzutc()), 'event_count': 117},\n",
                            " {'StartTime': datetime.datetime(2007, 3, 23, 0, 0, tzinfo=tzutc()), 'event_count': 215},\n",
                            " {'StartTime': datetime.datetime(2007, 3, 26, 0, 0, tzinfo=tzutc()), 'event_count': 89},\n",
                            " {'StartTime': datetime.datetime(2007, 3, 24, 0, 0, tzinfo=tzutc()), 'event_count': 106},\n",
                            " {'StartTime': datetime.datetime(2007, 3, 28, 0, 0, tzinfo=tzutc()), 'event_count': 423},\n",
                            " {'StartTime': datetime.datetime(2007, 3, 17, 0, 0, tzinfo=tzutc()), 'event_count': 54},\n",
                            " {'StartTime': datetime.datetime(2007, 3, 12, 0, 0, tzinfo=tzutc()), 'event_count': 72},\n",
                            " {'StartTime': datetime.datetime(2007, 3, 27, 0, 0, tzinfo=tzutc()), 'event_count': 169},\n",
                            " {'StartTime': datetime.datetime(2007, 3, 30, 0, 0, tzinfo=tzutc()), 'event_count': 188},\n",
                            " {'StartTime': datetime.datetime(2007, 3, 25, 0, 0, tzinfo=tzutc()), 'event_count': 51},\n",
                            " {'StartTime': datetime.datetime(2007, 4, 4, 0, 0, tzinfo=tzutc()), 'event_count': 286},\n",
                            " {'StartTime': datetime.datetime(2007, 4, 29, 0, 0, tzinfo=tzutc()), 'event_count': 67},\n",
                            " {'StartTime': datetime.datetime(2007, 4, 14, 0, 0, tzinfo=tzutc()), 'event_count': 128},\n",
                            " {'StartTime': datetime.datetime(2007, 4, 2, 0, 0, tzinfo=tzutc()), 'event_count': 144},\n",
                            " {'StartTime': datetime.datetime(2007, 3, 29, 0, 0, tzinfo=tzutc()), 'event_count': 118},\n",
                            " {'StartTime': datetime.datetime(2007, 4, 30, 0, 0, tzinfo=tzutc()), 'event_count': 80},\n",
                            " {'StartTime': datetime.datetime(2007, 3, 6, 0, 0, tzinfo=tzutc()), 'event_count': 121},\n",
                            " {'StartTime': datetime.datetime(2007, 4, 24, 0, 0, tzinfo=tzutc()), 'event_count': 328},\n",
                            " {'StartTime': datetime.datetime(2007, 3, 3, 0, 0, tzinfo=tzutc()), 'event_count': 17},\n",
                            " {'StartTime': datetime.datetime(2007, 4, 3, 0, 0, tzinfo=tzutc()), 'event_count': 902},\n",
                            " {'StartTime': datetime.datetime(2007, 3, 9, 0, 0, tzinfo=tzutc()), 'event_count': 60},\n",
                            " {'StartTime': datetime.datetime(2007, 3, 5, 0, 0, tzinfo=tzutc()), 'event_count': 65},\n",
                            " {'StartTime': datetime.datetime(2007, 3, 19, 0, 0, tzinfo=tzutc()), 'event_count': 10},\n",
                            " {'StartTime': datetime.datetime(2007, 4, 15, 0, 0, tzinfo=tzutc()), 'event_count': 468},\n",
                            " {'StartTime': datetime.datetime(2007, 4, 23, 0, 0, tzinfo=tzutc()), 'event_count': 184},\n",
                            " {'StartTime': datetime.datetime(2007, 4, 20, 0, 0, tzinfo=tzutc()), 'event_count': 59},\n",
                            " {'StartTime': datetime.datetime(2007, 4, 12, 0, 0, tzinfo=tzutc()), 'event_count': 192},\n",
                            " {'StartTime': datetime.datetime(2007, 4, 21, 0, 0, tzinfo=tzutc()), 'event_count': 220},\n",
                            " {'StartTime': datetime.datetime(2007, 4, 1, 0, 0, tzinfo=tzutc()), 'event_count': 150},\n",
                            " {'StartTime': datetime.datetime(2007, 4, 28, 0, 0, tzinfo=tzutc()), 'event_count': 8},\n",
                            " {'StartTime': datetime.datetime(2007, 4, 27, 0, 0, tzinfo=tzutc()), 'event_count': 71},\n",
                            " {'StartTime': datetime.datetime(2007, 4, 11, 0, 0, tzinfo=tzutc()), 'event_count': 316},\n",
                            " {'StartTime': datetime.datetime(2007, 4, 18, 0, 0, tzinfo=tzutc()), 'event_count': 63},\n",
                            " {'StartTime': datetime.datetime(2007, 4, 25, 0, 0, tzinfo=tzutc()), 'event_count': 156},\n",
                            " {'StartTime': datetime.datetime(2007, 3, 20, 0, 0, tzinfo=tzutc()), 'event_count': 44},\n",
                            " {'StartTime': datetime.datetime(2007, 4, 22, 0, 0, tzinfo=tzutc()), 'event_count': 40},\n",
                            " {'StartTime': datetime.datetime(2007, 4, 13, 0, 0, tzinfo=tzutc()), 'event_count': 234},\n",
                            " {'StartTime': datetime.datetime(2007, 4, 26, 0, 0, tzinfo=tzutc()), 'event_count': 80},\n",
                            " {'StartTime': datetime.datetime(2007, 4, 8, 0, 0, tzinfo=tzutc()), 'event_count': 298},\n",
                            " {'StartTime': datetime.datetime(2007, 4, 17, 0, 0, tzinfo=tzutc()), 'event_count': 113},\n",
                            " {'StartTime': datetime.datetime(2007, 3, 10, 0, 0, tzinfo=tzutc()), 'event_count': 42},\n",
                            " {'StartTime': datetime.datetime(2007, 4, 19, 0, 0, tzinfo=tzutc()), 'event_count': 22},\n",
                            " {'StartTime': datetime.datetime(2007, 5, 3, 0, 0, tzinfo=tzutc()), 'event_count': 201},\n",
                            " {'StartTime': datetime.datetime(2007, 5, 13, 0, 0, tzinfo=tzutc()), 'event_count': 181},\n",
                            " {'StartTime': datetime.datetime(2007, 5, 4, 0, 0, tzinfo=tzutc()), 'event_count': 246},\n",
                            " {'StartTime': datetime.datetime(2007, 5, 5, 0, 0, tzinfo=tzutc()), 'event_count': 546},\n",
                            " {'StartTime': datetime.datetime(2007, 5, 6, 0, 0, tzinfo=tzutc()), 'event_count': 487},\n",
                            " {'StartTime': datetime.datetime(2007, 5, 22, 0, 0, tzinfo=tzutc()), 'event_count': 158},\n",
                            " {'StartTime': datetime.datetime(2007, 5, 18, 0, 0, tzinfo=tzutc()), 'event_count': 58},\n",
                            " {'StartTime': datetime.datetime(2007, 4, 10, 0, 0, tzinfo=tzutc()), 'event_count': 212},\n",
                            " {'StartTime': datetime.datetime(2007, 4, 16, 0, 0, tzinfo=tzutc()), 'event_count': 351},\n",
                            " {'StartTime': datetime.datetime(2007, 5, 27, 0, 0, tzinfo=tzutc()), 'event_count': 137},\n",
                            " {'StartTime': datetime.datetime(2007, 5, 31, 0, 0, tzinfo=tzutc()), 'event_count': 268},\n",
                            " {'StartTime': datetime.datetime(2007, 5, 14, 0, 0, tzinfo=tzutc()), 'event_count': 212},\n",
                            " {'StartTime': datetime.datetime(2007, 5, 12, 0, 0, tzinfo=tzutc()), 'event_count': 73},\n",
                            " {'StartTime': datetime.datetime(2007, 5, 23, 0, 0, tzinfo=tzutc()), 'event_count': 323},\n",
                            " {'StartTime': datetime.datetime(2007, 5, 19, 0, 0, tzinfo=tzutc()), 'event_count': 53},\n",
                            " {'StartTime': datetime.datetime(2007, 5, 1, 0, 0, tzinfo=tzutc()), 'event_count': 575},\n",
                            " {'StartTime': datetime.datetime(2007, 5, 24, 0, 0, tzinfo=tzutc()), 'event_count': 169},\n",
                            " {'StartTime': datetime.datetime(2007, 5, 11, 0, 0, tzinfo=tzutc()), 'event_count': 73},\n",
                            " {'StartTime': datetime.datetime(2007, 5, 20, 0, 0, tzinfo=tzutc()), 'event_count': 41},\n",
                            " {'StartTime': datetime.datetime(2007, 5, 15, 0, 0, tzinfo=tzutc()), 'event_count': 389},\n",
                            " {'StartTime': datetime.datetime(2007, 5, 21, 0, 0, tzinfo=tzutc()), 'event_count': 106},\n",
                            " {'StartTime': datetime.datetime(2007, 5, 29, 0, 0, tzinfo=tzutc()), 'event_count': 165},\n",
                            " {'StartTime': datetime.datetime(2007, 5, 26, 0, 0, tzinfo=tzutc()), 'event_count': 83},\n",
                            " {'StartTime': datetime.datetime(2007, 5, 30, 0, 0, tzinfo=tzutc()), 'event_count': 118},\n",
                            " {'StartTime': datetime.datetime(2007, 5, 10, 0, 0, tzinfo=tzutc()), 'event_count': 189},\n",
                            " {'StartTime': datetime.datetime(2007, 5, 25, 0, 0, tzinfo=tzutc()), 'event_count': 122},\n",
                            " {'StartTime': datetime.datetime(2007, 5, 7, 0, 0, tzinfo=tzutc()), 'event_count': 206},\n",
                            " {'StartTime': datetime.datetime(2007, 5, 8, 0, 0, tzinfo=tzutc()), 'event_count': 140},\n",
                            " {'StartTime': datetime.datetime(2007, 5, 28, 0, 0, tzinfo=tzutc()), 'event_count': 110},\n",
                            " {'StartTime': datetime.datetime(2007, 5, 9, 0, 0, tzinfo=tzutc()), 'event_count': 83},\n",
                            " {'StartTime': datetime.datetime(2007, 5, 16, 0, 0, tzinfo=tzutc()), 'event_count': 131},\n",
                            " {'StartTime': datetime.datetime(2007, 5, 2, 0, 0, tzinfo=tzutc()), 'event_count': 220},\n",
                            " {'StartTime': datetime.datetime(2007, 5, 17, 0, 0, tzinfo=tzutc()), 'event_count': 21},\n",
                            " {'StartTime': datetime.datetime(2007, 7, 27, 0, 0, tzinfo=tzutc()), 'event_count': 252},\n",
                            " {'StartTime': datetime.datetime(2007, 7, 28, 0, 0, tzinfo=tzutc()), 'event_count': 116},\n",
                            " {'StartTime': datetime.datetime(2007, 7, 15, 0, 0, tzinfo=tzutc()), 'event_count': 284},\n",
                            " {'StartTime': datetime.datetime(2007, 7, 19, 0, 0, tzinfo=tzutc()), 'event_count': 274},\n",
                            " {'StartTime': datetime.datetime(2007, 7, 8, 0, 0, tzinfo=tzutc()), 'event_count': 231},\n",
                            " {'StartTime': datetime.datetime(2007, 7, 12, 0, 0, tzinfo=tzutc()), 'event_count': 145},\n",
                            " {'StartTime': datetime.datetime(2007, 7, 13, 0, 0, tzinfo=tzutc()), 'event_count': 161},\n",
                            " {'StartTime': datetime.datetime(2007, 7, 16, 0, 0, tzinfo=tzutc()), 'event_count': 240},\n",
                            " {'StartTime': datetime.datetime(2007, 7, 30, 0, 0, tzinfo=tzutc()), 'event_count': 75},\n",
                            " {'StartTime': datetime.datetime(2007, 7, 1, 0, 0, tzinfo=tzutc()), 'event_count': 579},\n",
                            " {'StartTime': datetime.datetime(2007, 7, 17, 0, 0, tzinfo=tzutc()), 'event_count': 180},\n",
                            " {'StartTime': datetime.datetime(2007, 7, 20, 0, 0, tzinfo=tzutc()), 'event_count': 163},\n",
                            " {'StartTime': datetime.datetime(2007, 7, 9, 0, 0, tzinfo=tzutc()), 'event_count': 471},\n",
                            " {'StartTime': datetime.datetime(2007, 7, 26, 0, 0, tzinfo=tzutc()), 'event_count': 268},\n",
                            " {'StartTime': datetime.datetime(2007, 7, 18, 0, 0, tzinfo=tzutc()), 'event_count': 344},\n",
                            " {'StartTime': datetime.datetime(2007, 7, 4, 0, 0, tzinfo=tzutc()), 'event_count': 172},\n",
                            " {'StartTime': datetime.datetime(2007, 7, 29, 0, 0, tzinfo=tzutc()), 'event_count': 108},\n",
                            " {'StartTime': datetime.datetime(2007, 7, 6, 0, 0, tzinfo=tzutc()), 'event_count': 214},\n",
                            " {'StartTime': datetime.datetime(2007, 7, 3, 0, 0, tzinfo=tzutc()), 'event_count': 198},\n",
                            " {'StartTime': datetime.datetime(2007, 7, 2, 0, 0, tzinfo=tzutc()), 'event_count': 131},\n",
                            " {'StartTime': datetime.datetime(2007, 7, 14, 0, 0, tzinfo=tzutc()), 'event_count': 99},\n",
                            " {'StartTime': datetime.datetime(2007, 7, 24, 0, 0, tzinfo=tzutc()), 'event_count': 104},\n",
                            " {'StartTime': datetime.datetime(2007, 7, 10, 0, 0, tzinfo=tzutc()), 'event_count': 340},\n",
                            " {'StartTime': datetime.datetime(2007, 7, 5, 0, 0, tzinfo=tzutc()), 'event_count': 204},\n",
                            " {'StartTime': datetime.datetime(2007, 7, 21, 0, 0, tzinfo=tzutc()), 'event_count': 132},\n",
                            " {'StartTime': datetime.datetime(2007, 7, 7, 0, 0, tzinfo=tzutc()), 'event_count': 85},\n",
                            " {'StartTime': datetime.datetime(2007, 7, 25, 0, 0, tzinfo=tzutc()), 'event_count': 113},\n",
                            " {'StartTime': datetime.datetime(2007, 7, 11, 0, 0, tzinfo=tzutc()), 'event_count': 194},\n",
                            " {'StartTime': datetime.datetime(2007, 7, 31, 0, 0, tzinfo=tzutc()), 'event_count': 71},\n",
                            " {'StartTime': datetime.datetime(2007, 7, 23, 0, 0, tzinfo=tzutc()), 'event_count': 108},\n",
                            " {'StartTime': datetime.datetime(2007, 9, 10, 0, 0, tzinfo=tzutc()), 'event_count': 31},\n",
                            " {'StartTime': datetime.datetime(2007, 9, 21, 0, 0, tzinfo=tzutc()), 'event_count': 140},\n",
                            " {'StartTime': datetime.datetime(2007, 9, 6, 0, 0, tzinfo=tzutc()), 'event_count': 148},\n",
                            " {'StartTime': datetime.datetime(2007, 7, 22, 0, 0, tzinfo=tzutc()), 'event_count': 49},\n",
                            " {'StartTime': datetime.datetime(2007, 9, 7, 0, 0, tzinfo=tzutc()), 'event_count': 50},\n",
                            " {'StartTime': datetime.datetime(2007, 9, 8, 0, 0, tzinfo=tzutc()), 'event_count': 66},\n",
                            " {'StartTime': datetime.datetime(2007, 9, 30, 0, 0, tzinfo=tzutc()), 'event_count': 154},\n",
                            " {'StartTime': datetime.datetime(2007, 9, 19, 0, 0, tzinfo=tzutc()), 'event_count': 29},\n",
                            " {'StartTime': datetime.datetime(2007, 9, 1, 0, 0, tzinfo=tzutc()), 'event_count': 559},\n",
                            " {'StartTime': datetime.datetime(2007, 9, 2, 0, 0, tzinfo=tzutc()), 'event_count': 29},\n",
                            " {'StartTime': datetime.datetime(2007, 9, 14, 0, 0, tzinfo=tzutc()), 'event_count': 103},\n",
                            " {'StartTime': datetime.datetime(2007, 9, 13, 0, 0, tzinfo=tzutc()), 'event_count': 55},\n",
                            " {'StartTime': datetime.datetime(2007, 9, 22, 0, 0, tzinfo=tzutc()), 'event_count': 36},\n",
                            " {'StartTime': datetime.datetime(2007, 9, 27, 0, 0, tzinfo=tzutc()), 'event_count': 112},\n",
                            " {'StartTime': datetime.datetime(2007, 9, 4, 0, 0, tzinfo=tzutc()), 'event_count': 50},\n",
                            " {'StartTime': datetime.datetime(2007, 9, 12, 0, 0, tzinfo=tzutc()), 'event_count': 22},\n",
                            " {'StartTime': datetime.datetime(2007, 9, 26, 0, 0, tzinfo=tzutc()), 'event_count': 106},\n",
                            " {'StartTime': datetime.datetime(2007, 9, 17, 0, 0, tzinfo=tzutc()), 'event_count': 21},\n",
                            " {'StartTime': datetime.datetime(2007, 9, 11, 0, 0, tzinfo=tzutc()), 'event_count': 43},\n",
                            " {'StartTime': datetime.datetime(2007, 10, 17, 0, 0, tzinfo=tzutc()), 'event_count': 385},\n",
                            " {'StartTime': datetime.datetime(2007, 10, 18, 0, 0, tzinfo=tzutc()), 'event_count': 572},\n",
                            " {'StartTime': datetime.datetime(2007, 10, 27, 0, 0, tzinfo=tzutc()), 'event_count': 34},\n",
                            " {'StartTime': datetime.datetime(2007, 9, 16, 0, 0, tzinfo=tzutc()), 'event_count': 36},\n",
                            " {'StartTime': datetime.datetime(2007, 10, 15, 0, 0, tzinfo=tzutc()), 'event_count': 31},\n",
                            " {'StartTime': datetime.datetime(2007, 9, 9, 0, 0, tzinfo=tzutc()), 'event_count': 44},\n",
                            " {'StartTime': datetime.datetime(2007, 10, 19, 0, 0, tzinfo=tzutc()), 'event_count': 86},\n",
                            " {'StartTime': datetime.datetime(2007, 10, 25, 0, 0, tzinfo=tzutc()), 'event_count': 12},\n",
                            " {'StartTime': datetime.datetime(2007, 10, 29, 0, 0, tzinfo=tzutc()), 'event_count': 126},\n",
                            " {'StartTime': datetime.datetime(2007, 10, 4, 0, 0, tzinfo=tzutc()), 'event_count': 35},\n",
                            " {'StartTime': datetime.datetime(2007, 10, 28, 0, 0, tzinfo=tzutc()), 'event_count': 21},\n",
                            " {'StartTime': datetime.datetime(2007, 10, 23, 0, 0, tzinfo=tzutc()), 'event_count': 29},\n",
                            " {'StartTime': datetime.datetime(2007, 10, 5, 0, 0, tzinfo=tzutc()), 'event_count': 78},\n",
                            " {'StartTime': datetime.datetime(2007, 10, 6, 0, 0, tzinfo=tzutc()), 'event_count': 34},\n",
                            " {'StartTime': datetime.datetime(2007, 10, 12, 0, 0, tzinfo=tzutc()), 'event_count': 17},\n",
                            " {'StartTime': datetime.datetime(2007, 10, 22, 0, 0, tzinfo=tzutc()), 'event_count': 59},\n",
                            " {'StartTime': datetime.datetime(2007, 10, 2, 0, 0, tzinfo=tzutc()), 'event_count': 63},\n",
                            " {'StartTime': datetime.datetime(2007, 10, 16, 0, 0, tzinfo=tzutc()), 'event_count': 23},\n",
                            " {'StartTime': datetime.datetime(2007, 10, 13, 0, 0, tzinfo=tzutc()), 'event_count': 42},\n",
                            " {'StartTime': datetime.datetime(2007, 10, 8, 0, 0, tzinfo=tzutc()), 'event_count': 19},\n",
                            " {'StartTime': datetime.datetime(2007, 10, 7, 0, 0, tzinfo=tzutc()), 'event_count': 23},\n",
                            " {'StartTime': datetime.datetime(2007, 10, 14, 0, 0, tzinfo=tzutc()), 'event_count': 88},\n",
                            " {'StartTime': datetime.datetime(2007, 9, 28, 0, 0, tzinfo=tzutc()), 'event_count': 76},\n",
                            " {'StartTime': datetime.datetime(2007, 10, 21, 0, 0, tzinfo=tzutc()), 'event_count': 48},\n",
                            " {'StartTime': datetime.datetime(2007, 9, 24, 0, 0, tzinfo=tzutc()), 'event_count': 30},\n",
                            " {'StartTime': datetime.datetime(2007, 10, 11, 0, 0, tzinfo=tzutc()), 'event_count': 30},\n",
                            " {'StartTime': datetime.datetime(2007, 10, 26, 0, 0, tzinfo=tzutc()), 'event_count': 7},\n",
                            " {'StartTime': datetime.datetime(2007, 10, 10, 0, 0, tzinfo=tzutc()), 'event_count': 39},\n",
                            " {'StartTime': datetime.datetime(2007, 10, 1, 0, 0, tzinfo=tzutc()), 'event_count': 531},\n",
                            " {'StartTime': datetime.datetime(2007, 9, 25, 0, 0, tzinfo=tzutc()), 'event_count': 86},\n",
                            " {'StartTime': datetime.datetime(2007, 9, 3, 0, 0, tzinfo=tzutc()), 'event_count': 19},\n",
                            " {'StartTime': datetime.datetime(2007, 9, 5, 0, 0, tzinfo=tzutc()), 'event_count': 59},\n",
                            " {'StartTime': datetime.datetime(2007, 9, 15, 0, 0, tzinfo=tzutc()), 'event_count': 10},\n",
                            " {'StartTime': datetime.datetime(2007, 10, 9, 0, 0, tzinfo=tzutc()), 'event_count': 24},\n",
                            " {'StartTime': datetime.datetime(2007, 9, 23, 0, 0, tzinfo=tzutc()), 'event_count': 20},\n",
                            " {'StartTime': datetime.datetime(2007, 10, 24, 0, 0, tzinfo=tzutc()), 'event_count': 80},\n",
                            " {'StartTime': datetime.datetime(2007, 12, 12, 0, 0, tzinfo=tzutc()), 'event_count': 11},\n",
                            " {'StartTime': datetime.datetime(2007, 10, 3, 0, 0, tzinfo=tzutc()), 'event_count': 12},\n",
                            " {'StartTime': datetime.datetime(2007, 10, 20, 0, 0, tzinfo=tzutc()), 'event_count': 62},\n",
                            " {'StartTime': datetime.datetime(2007, 11, 25, 0, 0, tzinfo=tzutc()), 'event_count': 20},\n",
                            " {'StartTime': datetime.datetime(2007, 12, 3, 0, 0, tzinfo=tzutc()), 'event_count': 210},\n",
                            " {'StartTime': datetime.datetime(2007, 11, 22, 0, 0, tzinfo=tzutc()), 'event_count': 25},\n",
                            " {'StartTime': datetime.datetime(2007, 11, 2, 0, 0, tzinfo=tzutc()), 'event_count': 14},\n",
                            " {'StartTime': datetime.datetime(2007, 11, 17, 0, 0, tzinfo=tzutc()), 'event_count': 20},\n",
                            " {'StartTime': datetime.datetime(2007, 11, 12, 0, 0, tzinfo=tzutc()), 'event_count': 87},\n",
                            " {'StartTime': datetime.datetime(2007, 11, 23, 0, 0, tzinfo=tzutc()), 'event_count': 87},\n",
                            " {'StartTime': datetime.datetime(2007, 12, 18, 0, 0, tzinfo=tzutc()), 'event_count': 39},\n",
                            " {'StartTime': datetime.datetime(2007, 1, 18, 0, 0, tzinfo=tzutc()), 'event_count': 93},\n",
                            " {'StartTime': datetime.datetime(2007, 11, 13, 0, 0, tzinfo=tzutc()), 'event_count': 103},\n",
                            " {'StartTime': datetime.datetime(2007, 11, 11, 0, 0, tzinfo=tzutc()), 'event_count': 5},\n",
                            " {'StartTime': datetime.datetime(2007, 12, 25, 0, 0, tzinfo=tzutc()), 'event_count': 78},\n",
                            " {'StartTime': datetime.datetime(2007, 12, 24, 0, 0, tzinfo=tzutc()), 'event_count': 41},\n",
                            " {'StartTime': datetime.datetime(2007, 11, 19, 0, 0, tzinfo=tzutc()), 'event_count': 75},\n",
                            " {'StartTime': datetime.datetime(2007, 12, 4, 0, 0, tzinfo=tzutc()), 'event_count': 135},\n",
                            " {'StartTime': datetime.datetime(2007, 11, 16, 0, 0, tzinfo=tzutc()), 'event_count': 14},\n",
                            " {'StartTime': datetime.datetime(2007, 11, 15, 0, 0, tzinfo=tzutc()), 'event_count': 8},\n",
                            " {'StartTime': datetime.datetime(2007, 11, 26, 0, 0, tzinfo=tzutc()), 'event_count': 17},\n",
                            " {'StartTime': datetime.datetime(2007, 11, 1, 0, 0, tzinfo=tzutc()), 'event_count': 335},\n",
                            " {'StartTime': datetime.datetime(2007, 12, 6, 0, 0, tzinfo=tzutc()), 'event_count': 146},\n",
                            " {'StartTime': datetime.datetime(2007, 11, 10, 0, 0, tzinfo=tzutc()), 'event_count': 4},\n",
                            " {'StartTime': datetime.datetime(2007, 11, 18, 0, 0, tzinfo=tzutc()), 'event_count': 43},\n",
                            " {'StartTime': datetime.datetime(2007, 11, 24, 0, 0, tzinfo=tzutc()), 'event_count': 25},\n",
                            " {'StartTime': datetime.datetime(2007, 11, 9, 0, 0, tzinfo=tzutc()), 'event_count': 8},\n",
                            " {'StartTime': datetime.datetime(2007, 1, 27, 0, 0, tzinfo=tzutc()), 'event_count': 24},\n",
                            " {'StartTime': datetime.datetime(2007, 2, 14, 0, 0, tzinfo=tzutc()), 'event_count': 200},\n",
                            " {'StartTime': datetime.datetime(2007, 2, 18, 0, 0, tzinfo=tzutc()), 'event_count': 22},\n",
                            " {'StartTime': datetime.datetime(2007, 2, 7, 0, 0, tzinfo=tzutc()), 'event_count': 89},\n",
                            " {'StartTime': datetime.datetime(2007, 1, 20, 0, 0, tzinfo=tzutc()), 'event_count': 386},\n",
                            " {'StartTime': datetime.datetime(2007, 1, 23, 0, 0, tzinfo=tzutc()), 'event_count': 22},\n",
                            " {'StartTime': datetime.datetime(2007, 11, 3, 0, 0, tzinfo=tzutc()), 'event_count': 49},\n",
                            " {'StartTime': datetime.datetime(2007, 2, 17, 0, 0, tzinfo=tzutc()), 'event_count': 103},\n",
                            " {'StartTime': datetime.datetime(2007, 1, 30, 0, 0, tzinfo=tzutc()), 'event_count': 45},\n",
                            " {'StartTime': datetime.datetime(2007, 1, 10, 0, 0, tzinfo=tzutc()), 'event_count': 52},\n",
                            " {'StartTime': datetime.datetime(2007, 2, 15, 0, 0, tzinfo=tzutc()), 'event_count': 66},\n",
                            " {'StartTime': datetime.datetime(2007, 1, 22, 0, 0, tzinfo=tzutc()), 'event_count': 26},\n",
                            " {'StartTime': datetime.datetime(2007, 2, 3, 0, 0, tzinfo=tzutc()), 'event_count': 179},\n",
                            " {'StartTime': datetime.datetime(2007, 2, 4, 0, 0, tzinfo=tzutc()), 'event_count': 69},\n",
                            " {'StartTime': datetime.datetime(2007, 2, 16, 0, 0, tzinfo=tzutc()), 'event_count': 164},\n",
                            " {'StartTime': datetime.datetime(2007, 1, 31, 0, 0, tzinfo=tzutc()), 'event_count': 78},\n",
                            " {'StartTime': datetime.datetime(2007, 1, 19, 0, 0, tzinfo=tzutc()), 'event_count': 136},\n",
                            " {'StartTime': datetime.datetime(2007, 2, 6, 0, 0, tzinfo=tzutc()), 'event_count': 217},\n",
                            " {'StartTime': datetime.datetime(2007, 1, 29, 0, 0, tzinfo=tzutc()), 'event_count': 44},\n",
                            " {'StartTime': datetime.datetime(2007, 1, 26, 0, 0, tzinfo=tzutc()), 'event_count': 51},\n",
                            " {'StartTime': datetime.datetime(2007, 1, 24, 0, 0, tzinfo=tzutc()), 'event_count': 12},\n",
                            " {'StartTime': datetime.datetime(2007, 11, 20, 0, 0, tzinfo=tzutc()), 'event_count': 51},\n",
                            " {'StartTime': datetime.datetime(2007, 2, 8, 0, 0, tzinfo=tzutc()), 'event_count': 6},\n",
                            " {'StartTime': datetime.datetime(2007, 3, 8, 0, 0, tzinfo=tzutc()), 'event_count': 12},\n",
                            " {'StartTime': datetime.datetime(2007, 3, 7, 0, 0, tzinfo=tzutc()), 'event_count': 87},\n",
                            " {'StartTime': datetime.datetime(2007, 4, 6, 0, 0, tzinfo=tzutc()), 'event_count': 259},\n",
                            " {'StartTime': datetime.datetime(2007, 3, 4, 0, 0, tzinfo=tzutc()), 'event_count': 5},\n",
                            " {'StartTime': datetime.datetime(2007, 3, 18, 0, 0, tzinfo=tzutc()), 'event_count': 11},\n",
                            " {'StartTime': datetime.datetime(2007, 4, 7, 0, 0, tzinfo=tzutc()), 'event_count': 502},\n",
                            " {'StartTime': datetime.datetime(2007, 4, 5, 0, 0, tzinfo=tzutc()), 'event_count': 222},\n",
                            " {'StartTime': datetime.datetime(2007, 4, 9, 0, 0, tzinfo=tzutc()), 'event_count': 134},\n",
                            " {'StartTime': datetime.datetime(2007, 10, 31, 0, 0, tzinfo=tzutc()), 'event_count': 3},\n",
                            " {'StartTime': datetime.datetime(2007, 10, 30, 0, 0, tzinfo=tzutc()), 'event_count': 20},\n",
                            " {'StartTime': datetime.datetime(2007, 2, 9, 0, 0, tzinfo=tzutc()), 'event_count': 4},\n",
                            " {'StartTime': datetime.datetime(2007, 11, 6, 0, 0, tzinfo=tzutc()), 'event_count': 14},\n",
                            " {'StartTime': datetime.datetime(2007, 11, 8, 0, 0, tzinfo=tzutc()), 'event_count': 2},\n",
                            " {'StartTime': datetime.datetime(2007, 11, 29, 0, 0, tzinfo=tzutc()), 'event_count': 6}]"
                        ]
                    },
                    "execution_count": 5,
                    "metadata": {},
                    "output_type": "execute_result"
                }
            ],
            "source": [
                "%kql StormEvents \\\n",
                "| summarize event_count=count() by bin(StartTime, 1d) \\\n",
                "| render timechart title= 'Daily Storm Events'"
            ]
        }
    ],
    "metadata": {
        "interpreter": {
            "hash": "d4d1e4263499bec80672ea0156c357c1ee493ec2b1c70f0acce89fc37c4a6abe"
        },
        "kernelspec": {
            "display_name": ".NET (C#)",
            "language": "python",
            "name": "python3"
        },
        "language_info": {
            "codemirror_mode": {
                "name": "ipython",
                "version": 3
            },
            "file_extension": ".py",
            "mimetype": "text/x-python",
            "name": "python",
            "nbconvert_exporter": "python",
            "pygments_lexer": "ipython3",
            "version": "3.8.10"
        }
    },
    "nbformat": 4,
    "nbformat_minor": 2
}
